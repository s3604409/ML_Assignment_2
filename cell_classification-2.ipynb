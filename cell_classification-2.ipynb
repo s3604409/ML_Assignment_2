{
 "cells": [
  {
   "cell_type": "markdown",
   "metadata": {},
   "source": [
    "## Importing necessary libraries"
   ]
  },
  {
   "cell_type": "code",
   "execution_count": 1,
   "metadata": {},
   "outputs": [
    {
     "name": "stderr",
     "output_type": "stream",
     "text": [
      "2023-05-12 23:40:04.835036: I tensorflow/core/platform/cpu_feature_guard.cc:193] This TensorFlow binary is optimized with oneAPI Deep Neural Network Library (oneDNN) to use the following CPU instructions in performance-critical operations:  AVX2 FMA\n",
      "To enable them in other operations, rebuild TensorFlow with the appropriate compiler flags.\n",
      "2023-05-12 23:40:05.016632: W tensorflow/compiler/xla/stream_executor/platform/default/dso_loader.cc:64] Could not load dynamic library 'libcudart.so.11.0'; dlerror: libcudart.so.11.0: cannot open shared object file: No such file or directory; LD_LIBRARY_PATH: /home/pupilmesh3/.local/lib/python3.8/site-packages/cv2/../../lib64:\n",
      "2023-05-12 23:40:05.016659: I tensorflow/compiler/xla/stream_executor/cuda/cudart_stub.cc:29] Ignore above cudart dlerror if you do not have a GPU set up on your machine.\n",
      "2023-05-12 23:40:06.147875: W tensorflow/compiler/xla/stream_executor/platform/default/dso_loader.cc:64] Could not load dynamic library 'libnvinfer.so.7'; dlerror: libnvinfer.so.7: cannot open shared object file: No such file or directory; LD_LIBRARY_PATH: /home/pupilmesh3/.local/lib/python3.8/site-packages/cv2/../../lib64:\n",
      "2023-05-12 23:40:06.148020: W tensorflow/compiler/xla/stream_executor/platform/default/dso_loader.cc:64] Could not load dynamic library 'libnvinfer_plugin.so.7'; dlerror: libnvinfer_plugin.so.7: cannot open shared object file: No such file or directory; LD_LIBRARY_PATH: /home/pupilmesh3/.local/lib/python3.8/site-packages/cv2/../../lib64:\n",
      "2023-05-12 23:40:06.148037: W tensorflow/compiler/tf2tensorrt/utils/py_utils.cc:38] TF-TRT Warning: Cannot dlopen some TensorRT libraries. If you would like to use Nvidia GPU with TensorRT, please make sure the missing libraries mentioned above are installed properly.\n"
     ]
    }
   ],
   "source": [
    "import pandas as pd\n",
    "import numpy as np\n",
    "import os\n",
    "import cv2\n",
    "from sklearn.model_selection import train_test_split\n",
    "from sklearn.preprocessing import LabelEncoder\n",
    "from tensorflow.keras.preprocessing.image import ImageDataGenerator"
   ]
  },
  {
   "cell_type": "markdown",
   "metadata": {},
   "source": [
    "## Reading the CSV file"
   ]
  },
  {
   "cell_type": "code",
   "execution_count": 2,
   "metadata": {},
   "outputs": [],
   "source": [
    "csv_file = \"dataset/data_labels_mainData.csv\"\n",
    "df = pd.read_csv(csv_file)"
   ]
  },
  {
   "cell_type": "markdown",
   "metadata": {},
   "source": [
    "## Extracting data from the CSV file\n"
   ]
  },
  {
   "cell_type": "code",
   "execution_count": 3,
   "metadata": {},
   "outputs": [],
   "source": [
    "def load_data(dataframe, img_folder):\n",
    "    data = []\n",
    "    labels = []\n",
    "    \n",
    "    for index, row in dataframe.iterrows():\n",
    "        img_name = row['ImageName']\n",
    "        img_path = os.path.join(img_folder, img_name)\n",
    "        img = cv2.imread(img_path)\n",
    "        img = cv2.cvtColor(img, cv2.COLOR_BGR2RGB)\n",
    "        \n",
    "        data.append(img)\n",
    "        labels.append(row['cellTypeName'])\n",
    "    \n",
    "    return np.array(data), np.array(labels)\n",
    "\n",
    "img_folder = \"dataset/patch_images/\"\n",
    "data, labels = load_data(df, img_folder)\n"
   ]
  },
  {
   "cell_type": "markdown",
   "metadata": {},
   "source": [
    "## Preprocessing the data\n"
   ]
  },
  {
   "cell_type": "code",
   "execution_count": 4,
   "metadata": {},
   "outputs": [],
   "source": [
    "# Encode the labels\n",
    "encoder = LabelEncoder()\n",
    "encoded_labels = encoder.fit_transform(labels)\n",
    "\n",
    "# Normalize the image data\n",
    "data = data.astype('float32') / 255.0\n",
    "\n",
    "# Split the dataset into training and testing subsets\n",
    "X_train, X_test, y_train, y_test = train_test_split(data, encoded_labels, test_size=0.3, random_state=42)\n"
   ]
  },
  {
   "cell_type": "markdown",
   "metadata": {},
   "source": [
    "## Data Augmentation\n"
   ]
  },
  {
   "cell_type": "code",
   "execution_count": 5,
   "metadata": {},
   "outputs": [],
   "source": [
    "# Initialize the data generator\n",
    "datagen = ImageDataGenerator(\n",
    "    rotation_range=20,\n",
    "    width_shift_range=0.1,\n",
    "    height_shift_range=0.1,\n",
    "    horizontal_flip=True,\n",
    "    vertical_flip=True,\n",
    ")\n",
    "\n",
    "# Apply data augmentation\n",
    "augmented_data = []\n",
    "augmented_labels = []\n",
    "\n",
    "for img, label in zip(data, encoded_labels):\n",
    "    img = img.reshape((1, *img.shape))\n",
    "    for _ in range(4):  # Number of times to augment each image\n",
    "        augmented_img = datagen.flow(img, batch_size=1)[0].reshape(img.shape[1:])\n",
    "        augmented_data.append(augmented_img)\n",
    "        augmented_labels.append(label)\n",
    "\n",
    "augmented_data = np.array(augmented_data)\n",
    "augmented_labels = np.array(augmented_labels)\n"
   ]
  },
  {
   "cell_type": "markdown",
   "metadata": {},
   "source": [
    "## Splitting the dataset into training and testing subsets"
   ]
  },
  {
   "cell_type": "code",
   "execution_count": 6,
   "metadata": {},
   "outputs": [],
   "source": [
    "X_train, X_test, y_train, y_test = train_test_split(augmented_data, augmented_labels, test_size=0.2, random_state=42)"
   ]
  },
  {
   "cell_type": "markdown",
   "metadata": {},
   "source": [
    "## Display Sample Images with Labels"
   ]
  },
  {
   "cell_type": "code",
   "execution_count": 7,
   "metadata": {},
   "outputs": [
    {
     "data": {
      "image/png": "[encoded data removed]",
      "text/plain": [
       "<Figure size 1500x300 with 5 Axes>"
      ]
     },
     "metadata": {},
     "output_type": "display_data"
    }
   ],
   "source": [
    "import matplotlib.pyplot as plt\n",
    "\n",
    "# Define a function to get the label name from the label index\n",
    "def get_label_name(index):\n",
    "    label_map = {0: 'fibroblast', 1: 'inflammatory', 2: 'epithelial', 3: 'others'}\n",
    "    return label_map[index]\n",
    "\n",
    "# Define a function to display sample images with their labels\n",
    "def display_sample_images(images, labels, num_samples=5):\n",
    "    indices = np.random.choice(range(len(images)), num_samples, replace=False)\n",
    "    fig, axes = plt.subplots(1, num_samples, figsize=(15, 3))\n",
    "    \n",
    "    for i, ax in zip(indices, axes):\n",
    "        ax.imshow(images[i])\n",
    "        ax.set_title(get_label_name(labels[i]))\n",
    "        ax.axis('off')\n",
    "\n",
    "# Display sample images with their labels\n",
    "display_sample_images(X_train, y_train)"
   ]
  },
  {
   "cell_type": "markdown",
   "metadata": {},
   "source": [
    "## Importing necessary libraries for SVM\n"
   ]
  },
  {
   "cell_type": "code",
   "execution_count": 8,
   "metadata": {},
   "outputs": [],
   "source": [
    "from skimage.feature import hog\n",
    "from sklearn.svm import SVC\n",
    "from sklearn.metrics import classification_report, confusion_matrix, accuracy_score\n",
    "from sklearn.model_selection import GridSearchCV"
   ]
  },
  {
   "cell_type": "markdown",
   "metadata": {},
   "source": [
    "## Feature extraction using HOG"
   ]
  },
  {
   "cell_type": "code",
   "execution_count": 25,
   "metadata": {},
   "outputs": [],
   "source": [
    "def extract_hog_features(images):\n",
    "    features = []\n",
    "    for img in images:\n",
    "        hog_feature, hog_image = hog(img, orientations=8, pixels_per_cell=(16, 16),\n",
    "                    cells_per_block=(1, 1), visualize=True, channel_axis=-1)\n",
    "        features.append(hog_feature)\n",
    "    return np.array(features)\n",
    "\n",
    "X_train_hog = extract_hog_features(X_train)\n",
    "X_test_hog = extract_hog_features(X_test)"
   ]
  },
  {
   "cell_type": "markdown",
   "metadata": {},
   "source": [
    "## Training the SVM model with Hyperparameter Tuning"
   ]
  },
  {
   "cell_type": "code",
   "execution_count": 26,
   "metadata": {},
   "outputs": [
    {
     "name": "stdout",
     "output_type": "stream",
     "text": [
      "Best parameters: {'C': 1, 'kernel': 'rbf'}\n",
      "Best cross-validated accuracy: 0.45043740759694956\n"
     ]
    }
   ],
   "source": [
    "# Define the parameter grid for the SVM model\n",
    "param_grid = {'C': [0.1, 1, 10], 'kernel': ['linear', 'rbf']}\n",
    "\n",
    "# Perform grid search\n",
    "grid_search = GridSearchCV(SVC(), param_grid, cv=3, scoring='accuracy', n_jobs=-1)\n",
    "grid_search.fit(X_train_hog, y_train)\n",
    "\n",
    "# Get the best parameters and best score\n",
    "best_params = grid_search.best_params_\n",
    "best_score = grid_search.best_score_\n",
    "\n",
    "print(\"Best parameters:\", best_params)\n",
    "print(\"Best cross-validated accuracy:\", best_score)\n"
   ]
  },
  {
   "cell_type": "markdown",
   "metadata": {},
   "source": [
    "## Evaluating the SVM model with the Best Hyperparameters\n"
   ]
  },
  {
   "cell_type": "code",
   "execution_count": 27,
   "metadata": {},
   "outputs": [
    {
     "name": "stdout",
     "output_type": "stream",
     "text": [
      "Accuracy: 0.44\n",
      "\n",
      "Confusion Matrix:\n",
      " [[2989  175   50    0]\n",
      " [1009  437   34    0]\n",
      " [1897  133   56    0]\n",
      " [ 990  116   29    2]]\n",
      "\n",
      "Classification Report:\n",
      "               precision    recall  f1-score   support\n",
      "\n",
      "           0       0.43      0.93      0.59      3214\n",
      "           1       0.51      0.30      0.37      1480\n",
      "           2       0.33      0.03      0.05      2086\n",
      "           3       1.00      0.00      0.00      1137\n",
      "\n",
      "    accuracy                           0.44      7917\n",
      "   macro avg       0.57      0.31      0.25      7917\n",
      "weighted avg       0.50      0.44      0.32      7917\n",
      "\n"
     ]
    }
   ],
   "source": [
    "# Evaluate the best SVM model on the test set\n",
    "best_svm = grid_search.best_estimator_\n",
    "y_pred_best_svm = best_svm.predict(X_test_hog)\n",
    "\n",
    "accuracy = accuracy_score(y_test, y_pred_best_svm)\n",
    "conf_mat = confusion_matrix(y_test, y_pred_best_svm)\n",
    "class_report = classification_report(y_test, y_pred_best_svm)\n",
    "\n",
    "print(f\"Accuracy: {accuracy:.2f}\")\n",
    "print(\"\\nConfusion Matrix:\\n\", conf_mat)\n",
    "print(\"\\nClassification Report:\\n\", class_report)"
   ]
  },
  {
   "cell_type": "markdown",
   "metadata": {},
   "source": [
    "## Importing necessary libraries for Random Forest Classifier"
   ]
  },
  {
   "cell_type": "code",
   "execution_count": 28,
   "metadata": {},
   "outputs": [],
   "source": [
    "from sklearn.ensemble import RandomForestClassifier"
   ]
  },
  {
   "cell_type": "markdown",
   "metadata": {},
   "source": [
    "## Training the Random Forest Classifier"
   ]
  },
  {
   "cell_type": "code",
   "execution_count": 29,
   "metadata": {},
   "outputs": [
    {
     "data": {
      "text/html": [
       "<style>#sk-container-id-1 {color: black;background-color: white;}#sk-container-id-1 pre{padding: 0;}#sk-container-id-1 div.sk-toggleable {background-color: white;}#sk-container-id-1 label.sk-toggleable__label {cursor: pointer;display: block;width: 100%;margin-bottom: 0;padding: 0.3em;box-sizing: border-box;text-align: center;}#sk-container-id-1 label.sk-toggleable__label-arrow:before {content: \"▸\";float: left;margin-right: 0.25em;color: #696969;}#sk-container-id-1 label.sk-toggleable__label-arrow:hover:before {color: black;}#sk-container-id-1 div.sk-estimator:hover label.sk-toggleable__label-arrow:before {color: black;}#sk-container-id-1 div.sk-toggleable__content {max-height: 0;max-width: 0;overflow: hidden;text-align: left;background-color: #f0f8ff;}#sk-container-id-1 div.sk-toggleable__content pre {margin: 0.2em;color: black;border-radius: 0.25em;background-color: #f0f8ff;}#sk-container-id-1 input.sk-toggleable__control:checked~div.sk-toggleable__content {max-height: 200px;max-width: 100%;overflow: auto;}#sk-container-id-1 input.sk-toggleable__control:checked~label.sk-toggleable__label-arrow:before {content: \"▾\";}#sk-container-id-1 div.sk-estimator input.sk-toggleable__control:checked~label.sk-toggleable__label {background-color: #d4ebff;}#sk-container-id-1 div.sk-label input.sk-toggleable__control:checked~label.sk-toggleable__label {background-color: #d4ebff;}#sk-container-id-1 input.sk-hidden--visually {border: 0;clip: rect(1px 1px 1px 1px);clip: rect(1px, 1px, 1px, 1px);height: 1px;margin: -1px;overflow: hidden;padding: 0;position: absolute;width: 1px;}#sk-container-id-1 div.sk-estimator {font-family: monospace;background-color: #f0f8ff;border: 1px dotted black;border-radius: 0.25em;box-sizing: border-box;margin-bottom: 0.5em;}#sk-container-id-1 div.sk-estimator:hover {background-color: #d4ebff;}#sk-container-id-1 div.sk-parallel-item::after {content: \"\";width: 100%;border-bottom: 1px solid gray;flex-grow: 1;}#sk-container-id-1 div.sk-label:hover label.sk-toggleable__label {background-color: #d4ebff;}#sk-container-id-1 div.sk-serial::before {content: \"\";position: absolute;border-left: 1px solid gray;box-sizing: border-box;top: 0;bottom: 0;left: 50%;z-index: 0;}#sk-container-id-1 div.sk-serial {display: flex;flex-direction: column;align-items: center;background-color: white;padding-right: 0.2em;padding-left: 0.2em;position: relative;}#sk-container-id-1 div.sk-item {position: relative;z-index: 1;}#sk-container-id-1 div.sk-parallel {display: flex;align-items: stretch;justify-content: center;background-color: white;position: relative;}#sk-container-id-1 div.sk-item::before, #sk-container-id-1 div.sk-parallel-item::before {content: \"\";position: absolute;border-left: 1px solid gray;box-sizing: border-box;top: 0;bottom: 0;left: 50%;z-index: -1;}#sk-container-id-1 div.sk-parallel-item {display: flex;flex-direction: column;z-index: 1;position: relative;background-color: white;}#sk-container-id-1 div.sk-parallel-item:first-child::after {align-self: flex-end;width: 50%;}#sk-container-id-1 div.sk-parallel-item:last-child::after {align-self: flex-start;width: 50%;}#sk-container-id-1 div.sk-parallel-item:only-child::after {width: 0;}#sk-container-id-1 div.sk-dashed-wrapped {border: 1px dashed gray;margin: 0 0.4em 0.5em 0.4em;box-sizing: border-box;padding-bottom: 0.4em;background-color: white;}#sk-container-id-1 div.sk-label label {font-family: monospace;font-weight: bold;display: inline-block;line-height: 1.2em;}#sk-container-id-1 div.sk-label-container {text-align: center;}#sk-container-id-1 div.sk-container {/* jupyter's `normalize.less` sets `[hidden] { display: none; }` but bootstrap.min.css set `[hidden] { display: none !important; }` so we also need the `!important` here to be able to override the default hidden behavior on the sphinx rendered scikit-learn.org. See: https://github.com/scikit-learn/scikit-learn/issues/21755 */display: inline-block !important;position: relative;}#sk-container-id-1 div.sk-text-repr-fallback {display: none;}</style><div id=\"sk-container-id-1\" class=\"sk-top-container\"><div class=\"sk-text-repr-fallback\"><pre>RandomForestClassifier(random_state=42)</pre><b>In a Jupyter environment, please rerun this cell to show the HTML representation or trust the notebook. <br />On GitHub, the HTML representation is unable to render, please try loading this page with nbviewer.org.</b></div><div class=\"sk-container\" hidden><div class=\"sk-item\"><div class=\"sk-estimator sk-toggleable\"><input class=\"sk-toggleable__control sk-hidden--visually\" id=\"sk-estimator-id-1\" type=\"checkbox\" checked><label for=\"sk-estimator-id-1\" class=\"sk-toggleable__label sk-toggleable__label-arrow\">RandomForestClassifier</label><div class=\"sk-toggleable__content\"><pre>RandomForestClassifier(random_state=42)</pre></div></div></div></div></div>"
      ],
      "text/plain": [
       "RandomForestClassifier(random_state=42)"
      ]
     },
     "execution_count": 29,
     "metadata": {},
     "output_type": "execute_result"
    }
   ],
   "source": [
    "# Initialize the Random Forest classifier\n",
    "rf = RandomForestClassifier(n_estimators=100, random_state=42)\n",
    "\n",
    "# Train the classifier\n",
    "rf.fit(X_train_hog, y_train)"
   ]
  },
  {
   "cell_type": "markdown",
   "metadata": {},
   "source": [
    "## Evaluating the Random Forest Classifier"
   ]
  },
  {
   "cell_type": "code",
   "execution_count": 30,
   "metadata": {},
   "outputs": [
    {
     "name": "stdout",
     "output_type": "stream",
     "text": [
      "Accuracy: 0.39\n",
      "\n",
      "Confusion Matrix:\n",
      " [[2099  378  546  191]\n",
      " [ 682  474  248   76]\n",
      " [1234  285  426  141]\n",
      " [ 651  164  241   81]]\n",
      "\n",
      "Classification Report:\n",
      "               precision    recall  f1-score   support\n",
      "\n",
      "           0       0.45      0.65      0.53      3214\n",
      "           1       0.36      0.32      0.34      1480\n",
      "           2       0.29      0.20      0.24      2086\n",
      "           3       0.17      0.07      0.10      1137\n",
      "\n",
      "    accuracy                           0.39      7917\n",
      "   macro avg       0.32      0.31      0.30      7917\n",
      "weighted avg       0.35      0.39      0.36      7917\n",
      "\n"
     ]
    }
   ],
   "source": [
    "# Make predictions on the test set\n",
    "y_pred = rf.predict(X_test_hog)\n",
    "\n",
    "# Calculate the accuracy, confusion matrix, and classification report\n",
    "accuracy = accuracy_score(y_test, y_pred)\n",
    "conf_mat = confusion_matrix(y_test, y_pred)\n",
    "class_report = classification_report(y_test, y_pred)\n",
    "\n",
    "print(f\"Accuracy: {accuracy:.2f}\")\n",
    "print(\"\\nConfusion Matrix:\\n\", conf_mat)\n",
    "print(\"\\nClassification Report:\\n\", class_report)"
   ]
  },
  {
   "cell_type": "markdown",
   "metadata": {},
   "source": [
    "## Importing necessary libraries for CNN"
   ]
  },
  {
   "cell_type": "code",
   "execution_count": 31,
   "metadata": {},
   "outputs": [],
   "source": [
    "import tensorflow as tf\n",
    "from tensorflow.keras.models import Sequential\n",
    "from tensorflow.keras.layers import Conv2D, MaxPooling2D, Flatten, Dense, Dropout\n",
    "from tensorflow.keras.optimizers import Adam\n",
    "from tensorflow.keras.callbacks import EarlyStopping"
   ]
  },
  {
   "cell_type": "markdown",
   "metadata": {},
   "source": [
    "## Preparing the data for CNN"
   ]
  },
  {
   "cell_type": "code",
   "execution_count": 10,
   "metadata": {},
   "outputs": [],
   "source": [
    "# One-hot encoding the labels\n",
    "y_train_cnn = tf.keras.utils.to_categorical(y_train)\n",
    "y_test_cnn = tf.keras.utils.to_categorical(y_test)\n",
    "\n",
    "# Reshaping the image data to include the channel dimension\n",
    "X_train_cnn = X_train.reshape(*X_train.shape, 1)\n",
    "X_test_cnn = X_test.reshape(*X_test.shape, 1)"
   ]
  },
  {
   "cell_type": "markdown",
   "metadata": {},
   "source": [
    "## Defining the CNN model"
   ]
  },
  {
   "cell_type": "code",
   "execution_count": 16,
   "metadata": {},
   "outputs": [],
   "source": [
    "from keras.layers import BatchNormalization\n",
    "from keras.models import Sequential\n",
    "from keras.layers import Conv2D, MaxPooling2D, Flatten, Dense, Dropout, BatchNormalization\n",
    "from keras.regularizers import l2\n",
    "\n",
    "def create_cnn_model():\n",
    "    model = Sequential()\n",
    "\n",
    "    model.add(Conv2D(16, (3, 3), activation='relu', padding='same', input_shape=(27, 27, 3)))\n",
    "    model.add(BatchNormalization())\n",
    "    model.add(MaxPooling2D((2, 2)))\n",
    "    model.add(Dropout(0.25))\n",
    "\n",
    "    model.add(Conv2D(32, (3, 3), activation='relu', padding='same'))\n",
    "    model.add(BatchNormalization())\n",
    "    model.add(MaxPooling2D((2, 2)))\n",
    "    model.add(Dropout(0.25))\n",
    "\n",
    "    model.add(Conv2D(64, (3, 3), activation='relu', padding='same'))\n",
    "    model.add(BatchNormalization())\n",
    "    model.add(MaxPooling2D((2, 2)))\n",
    "    model.add(Dropout(0.25))\n",
    "\n",
    "    model.add(Flatten())\n",
    "    model.add(Dense(64, activation='relu', kernel_regularizer=l2(0.001)))\n",
    "    model.add(Dropout(0.5))\n",
    "    model.add(Dense(4, activation='softmax', kernel_regularizer=l2(0.001)))\n",
    "\n",
    "    return model\n",
    "\n",
    "cnn_model = create_cnn_model()\n"
   ]
  },
  {
   "cell_type": "markdown",
   "metadata": {},
   "source": [
    "## Compiling the CNN model"
   ]
  },
  {
   "cell_type": "code",
   "execution_count": 17,
   "metadata": {},
   "outputs": [],
   "source": [
    "\n",
    "cnn_model.compile(optimizer=Adam(learning_rate=0.001),\n",
    "                  loss='categorical_crossentropy',\n",
    "                  metrics=['accuracy'])"
   ]
  },
  {
   "cell_type": "markdown",
   "metadata": {},
   "source": [
    "## Training the CNN model"
   ]
  },
  {
   "cell_type": "code",
   "execution_count": 23,
   "metadata": {},
   "outputs": [
    {
     "name": "stdout",
     "output_type": "stream",
     "text": [
      "Epoch 1/50\n",
      "693/693 [==============================] - 14s 20ms/step - loss: 0.5621 - accuracy: 0.8122 - val_loss: 0.5823 - val_accuracy: 0.7938\n",
      "Epoch 2/50\n",
      "693/693 [==============================] - 13s 18ms/step - loss: 0.5541 - accuracy: 0.8153 - val_loss: 0.5735 - val_accuracy: 0.8032\n",
      "Epoch 3/50\n",
      "693/693 [==============================] - 14s 20ms/step - loss: 0.5546 - accuracy: 0.8144 - val_loss: 0.6278 - val_accuracy: 0.7765\n",
      "Epoch 4/50\n",
      "693/693 [==============================] - 15s 22ms/step - loss: 0.5529 - accuracy: 0.8144 - val_loss: 0.5905 - val_accuracy: 0.7970\n",
      "Epoch 5/50\n",
      "693/693 [==============================] - 13s 19ms/step - loss: 0.5496 - accuracy: 0.8105 - val_loss: 0.5496 - val_accuracy: 0.8109\n",
      "Epoch 6/50\n",
      "693/693 [==============================] - 13s 19ms/step - loss: 0.5501 - accuracy: 0.8164 - val_loss: 0.9631 - val_accuracy: 0.7190\n",
      "Epoch 7/50\n",
      "693/693 [==============================] - 14s 20ms/step - loss: 0.5577 - accuracy: 0.8113 - val_loss: 0.5272 - val_accuracy: 0.8211\n",
      "Epoch 8/50\n",
      "693/693 [==============================] - 13s 19ms/step - loss: 0.5484 - accuracy: 0.8177 - val_loss: 0.6912 - val_accuracy: 0.7521\n",
      "Epoch 9/50\n",
      "693/693 [==============================] - 13s 19ms/step - loss: 0.5530 - accuracy: 0.8138 - val_loss: 1.1327 - val_accuracy: 0.5911\n",
      "Epoch 10/50\n",
      "693/693 [==============================] - 13s 19ms/step - loss: 0.5461 - accuracy: 0.8126 - val_loss: 1.0442 - val_accuracy: 0.5726\n",
      "Epoch 11/50\n",
      "693/693 [==============================] - 13s 19ms/step - loss: 0.5456 - accuracy: 0.8179 - val_loss: 0.5653 - val_accuracy: 0.8065\n",
      "Epoch 12/50\n",
      "693/693 [==============================] - 13s 19ms/step - loss: 0.5504 - accuracy: 0.8140 - val_loss: 0.5652 - val_accuracy: 0.8082\n",
      "Epoch 13/50\n",
      "693/693 [==============================] - 13s 19ms/step - loss: 0.5462 - accuracy: 0.8147 - val_loss: 0.5829 - val_accuracy: 0.8016\n",
      "Epoch 14/50\n",
      "693/693 [==============================] - 13s 19ms/step - loss: 0.5461 - accuracy: 0.8196 - val_loss: 0.6290 - val_accuracy: 0.7727\n",
      "Epoch 15/50\n",
      "693/693 [==============================] - 13s 19ms/step - loss: 0.5473 - accuracy: 0.8163 - val_loss: 0.7018 - val_accuracy: 0.7530\n",
      "Epoch 16/50\n",
      "693/693 [==============================] - 13s 19ms/step - loss: 0.5453 - accuracy: 0.8185 - val_loss: 0.6793 - val_accuracy: 0.7617\n",
      "Epoch 17/50\n",
      "693/693 [==============================] - 13s 19ms/step - loss: 0.5474 - accuracy: 0.8149 - val_loss: 0.6693 - val_accuracy: 0.7658\n",
      "Epoch 18/50\n",
      "693/693 [==============================] - 13s 19ms/step - loss: 0.5427 - accuracy: 0.8187 - val_loss: 0.6311 - val_accuracy: 0.7797\n",
      "Epoch 19/50\n",
      "693/693 [==============================] - 14s 20ms/step - loss: 0.5458 - accuracy: 0.8181 - val_loss: 0.7984 - val_accuracy: 0.7633\n",
      "Epoch 20/50\n",
      "693/693 [==============================] - 14s 20ms/step - loss: 0.5372 - accuracy: 0.8186 - val_loss: 0.8557 - val_accuracy: 0.6774\n",
      "Epoch 21/50\n",
      "693/693 [==============================] - 15s 21ms/step - loss: 0.5421 - accuracy: 0.8178 - val_loss: 0.6848 - val_accuracy: 0.7579\n",
      "Epoch 22/50\n",
      "693/693 [==============================] - 14s 20ms/step - loss: 0.5446 - accuracy: 0.8189 - val_loss: 0.6029 - val_accuracy: 0.7858\n",
      "Epoch 23/50\n",
      "693/693 [==============================] - 14s 20ms/step - loss: 0.5419 - accuracy: 0.8164 - val_loss: 0.6333 - val_accuracy: 0.7788\n",
      "Epoch 24/50\n",
      "693/693 [==============================] - 13s 19ms/step - loss: 0.5411 - accuracy: 0.8191 - val_loss: 0.5658 - val_accuracy: 0.8061\n",
      "Epoch 25/50\n",
      "693/693 [==============================] - 14s 20ms/step - loss: 0.5415 - accuracy: 0.8181 - val_loss: 0.5207 - val_accuracy: 0.8222\n",
      "Epoch 26/50\n",
      "693/693 [==============================] - 14s 20ms/step - loss: 0.5478 - accuracy: 0.8175 - val_loss: 0.8587 - val_accuracy: 0.7330\n",
      "Epoch 27/50\n",
      "693/693 [==============================] - 14s 20ms/step - loss: 0.5381 - accuracy: 0.8223 - val_loss: 1.9935 - val_accuracy: 0.4372\n",
      "Epoch 28/50\n",
      "693/693 [==============================] - 14s 20ms/step - loss: 0.5449 - accuracy: 0.8179 - val_loss: 0.6174 - val_accuracy: 0.7777\n",
      "Epoch 29/50\n",
      "693/693 [==============================] - 14s 20ms/step - loss: 0.5351 - accuracy: 0.8216 - val_loss: 0.6760 - val_accuracy: 0.7735\n",
      "Epoch 30/50\n",
      "693/693 [==============================] - 14s 20ms/step - loss: 0.5317 - accuracy: 0.8228 - val_loss: 0.8466 - val_accuracy: 0.6860\n",
      "Epoch 31/50\n",
      "693/693 [==============================] - 14s 20ms/step - loss: 0.5351 - accuracy: 0.8224 - val_loss: 0.5725 - val_accuracy: 0.8041\n",
      "Epoch 32/50\n",
      "693/693 [==============================] - 14s 20ms/step - loss: 0.5363 - accuracy: 0.8220 - val_loss: 0.7129 - val_accuracy: 0.7672\n",
      "Epoch 33/50\n",
      "693/693 [==============================] - 14s 20ms/step - loss: 0.5385 - accuracy: 0.8213 - val_loss: 0.7556 - val_accuracy: 0.7288\n",
      "Epoch 34/50\n",
      "693/693 [==============================] - 14s 20ms/step - loss: 0.5417 - accuracy: 0.8203 - val_loss: 0.6231 - val_accuracy: 0.7889\n",
      "Epoch 35/50\n",
      "693/693 [==============================] - 14s 20ms/step - loss: 0.5354 - accuracy: 0.8215 - val_loss: 0.5419 - val_accuracy: 0.8135\n",
      "Epoch 36/50\n",
      "693/693 [==============================] - 14s 20ms/step - loss: 0.5426 - accuracy: 0.8199 - val_loss: 0.5677 - val_accuracy: 0.8039\n",
      "Epoch 37/50\n",
      "693/693 [==============================] - 14s 20ms/step - loss: 0.5360 - accuracy: 0.8204 - val_loss: 0.5298 - val_accuracy: 0.8210\n",
      "Epoch 38/50\n",
      "693/693 [==============================] - 14s 20ms/step - loss: 0.5352 - accuracy: 0.8220 - val_loss: 1.2836 - val_accuracy: 0.4670\n",
      "Epoch 39/50\n",
      "693/693 [==============================] - 14s 20ms/step - loss: 0.5395 - accuracy: 0.8186 - val_loss: 0.7400 - val_accuracy: 0.7272\n",
      "Epoch 40/50\n",
      "693/693 [==============================] - 14s 20ms/step - loss: 0.5313 - accuracy: 0.8271 - val_loss: 0.9354 - val_accuracy: 0.7300\n",
      "Epoch 41/50\n",
      "693/693 [==============================] - 14s 20ms/step - loss: 0.5406 - accuracy: 0.8202 - val_loss: 0.5287 - val_accuracy: 0.8176\n",
      "Epoch 42/50\n",
      "693/693 [==============================] - 14s 20ms/step - loss: 0.5332 - accuracy: 0.8220 - val_loss: 0.8335 - val_accuracy: 0.7575\n",
      "Epoch 43/50\n",
      "693/693 [==============================] - 14s 20ms/step - loss: 0.5310 - accuracy: 0.8230 - val_loss: 0.5473 - val_accuracy: 0.8109\n",
      "Epoch 44/50\n",
      "693/693 [==============================] - 14s 20ms/step - loss: 0.5314 - accuracy: 0.8215 - val_loss: 0.6705 - val_accuracy: 0.7666\n",
      "Epoch 45/50\n",
      "693/693 [==============================] - 14s 20ms/step - loss: 0.5381 - accuracy: 0.8203 - val_loss: 0.6440 - val_accuracy: 0.7735\n"
     ]
    }
   ],
   "source": [
    "from keras.callbacks import EarlyStopping, ModelCheckpoint\n",
    "\n",
    "early_stopping = EarlyStopping(monitor='val_loss', patience=20, restore_best_weights=True)\n",
    "model_checkpoint = ModelCheckpoint('best_cnn_model.h5', monitor='val_loss', save_best_only=True)\n",
    "\n",
    "history = cnn_model.fit(X_train_cnn, y_train_cnn,\n",
    "                        batch_size=32,\n",
    "                        epochs=50,\n",
    "                        validation_split=0.3,\n",
    "                        callbacks=[early_stopping, model_checkpoint])\n"
   ]
  },
  {
   "cell_type": "markdown",
   "metadata": {},
   "source": [
    "## Evaluating the CNN model"
   ]
  },
  {
   "cell_type": "code",
   "execution_count": 24,
   "metadata": {},
   "outputs": [
    {
     "name": "stdout",
     "output_type": "stream",
     "text": [
      "248/248 [==============================] - 1s 5ms/step\n",
      "Accuracy: 0.82\n",
      "\n",
      "Confusion Matrix:\n",
      " [[2935  163   85   31]\n",
      " [  67 1209  109   95]\n",
      " [ 114  179 1605  188]\n",
      " [  79  170  149  739]]\n",
      "\n",
      "Classification Report:\n",
      "               precision    recall  f1-score   support\n",
      "\n",
      "           0       0.92      0.91      0.92      3214\n",
      "           1       0.70      0.82      0.76      1480\n",
      "           2       0.82      0.77      0.80      2086\n",
      "           3       0.70      0.65      0.67      1137\n",
      "\n",
      "    accuracy                           0.82      7917\n",
      "   macro avg       0.79      0.79      0.79      7917\n",
      "weighted avg       0.82      0.82      0.82      7917\n",
      "\n"
     ]
    }
   ],
   "source": [
    "# Make predictions on the test set\n",
    "y_pred_cnn = np.argmax(cnn_model.predict(X_test_cnn), axis=-1)\n",
    "\n",
    "# Calculate the accuracy, confusion matrix, and classification report\n",
    "accuracy = accuracy_score(y_test, y_pred_cnn)\n",
    "conf_mat = confusion_matrix(y_test, y_pred_cnn)\n",
    "class_report = classification_report(y_test, y_pred_cnn)\n",
    "\n",
    "print(f\"Accuracy: {accuracy:.2f}\")\n",
    "print(\"\\nConfusion Matrix:\\n\", conf_mat)\n",
    "print(\"\\nClassification Report:\\n\", class_report)"
   ]
  },
  {
   "cell_type": "markdown",
   "metadata": {},
   "source": [
    "## Summary of the End-to-End Machine Learning System\n",
    "\n",
    "### Evaluation Framework\n",
    "- We used a train-test split (80/20) to separate our dataset into training and test sets. This helps us to evaluate the performance of our models on unseen data.\n",
    "\n",
    "### Data Pre-processing\n",
    "- We read the data from the CSV file, extracted the images and their corresponding labels, and normalized the image pixel values to the range [0, 1].\n",
    "\n",
    "### Baseline Models\n",
    "- We chose three different machine learning algorithms: Support Vector Machine (SVM) with HOG features, Random Forest Classifier with HOG features, and a Convolutional Neural Network (CNN).\n",
    "\n",
    "### Hyperparameter Tuning\n",
    "- We used the default hyperparameters for the SVM and Random Forest models. For the CNN model, we used the Adam optimizer with a learning rate of 0.001 and an early stopping callback to avoid overfitting. We can further optimize the models using techniques like GridSearchCV or RandomizedSearchCV for hyperparameter tuning.\n",
    "\n"
   ]
  },
  {
   "cell_type": "markdown",
   "metadata": {},
   "source": [
    "## Model Performance Comparison and Analysis\n",
    "\n",
    "We trained and evaluated three different models on the histopathology image dataset. Here is a summary of their performance:\n",
    "\n",
    "1. **Support Vector Machine (SVM) with HOG features**: 44% accuracy\n",
    "2. **Random Forest Classifier with HOG features**: 39% accuracy\n",
    "3. **Convolutional Neural Network (CNN)**: 82% accuracy\n",
    "\n",
    "### Analysis\n",
    "\n",
    "The **SVM and Random Forest models** have relatively low accuracies compared to the CNN model. The main reason for this performance difference is that both SVM and Random Forest models rely on handcrafted HOG features, which may not capture the complex patterns present in histopathology images. Moreover, these traditional machine learning algorithms are not specifically designed to handle image data, and their performance is highly dependent on the quality of the extracted features.\n",
    "\n",
    "On the other hand, the **CNN model** has a significantly higher accuracy of 82%. This is because CNNs are specifically designed to work with image data and are capable of automatically learning complex hierarchical features from the images themselves. CNNs consist of convolutional and pooling layers that can capture local and global patterns, which are crucial for classifying histopathology images. As a result, CNNs generally perform better on image classification tasks compared to traditional machine learning algorithms that rely on handcrafted features.\n",
    "\n",
    "To further improve the performance of the models, we can explore techniques such as more data augmentation, hyperparameter tuning, and more advanced CNN architectures."
   ]
  }
 ],
 "metadata": {
  "kernelspec": {
   "display_name": "Python 3 (ipykernel)",
   "language": "python",
   "name": "python3"
  },
  "language_info": {
   "codemirror_mode": {
    "name": "ipython",
    "version": 3
   },
   "file_extension": ".py",
   "mimetype": "text/x-python",
   "name": "python",
   "nbconvert_exporter": "python",
   "pygments_lexer": "ipython3",
   "version": "3.9.12"
  }
 },
 "nbformat": 4,
 "nbformat_minor": 2
}
