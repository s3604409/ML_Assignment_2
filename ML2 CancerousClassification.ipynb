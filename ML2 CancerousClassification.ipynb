{
 "cells": [
  {
   "cell_type": "code",
   "execution_count": 1,
   "id": "f2f11a03",
   "metadata": {},
   "outputs": [],
   "source": [
    "import tensorflow as tf\n",
    "import pandas as pd\n",
    "import numpy as np\n",
    "import os\n",
    "import cv2\n",
    "from tensorflow import keras\n",
    "from tensorflow.keras.optimizers import Adam\n",
    "from tensorflow.keras.models import Sequential\n",
    "from tensorflow.keras.layers import Conv2D, MaxPooling2D, Flatten, Dense, Dropout\n",
    "from tensorflow.keras.preprocessing.image import ImageDataGenerator\n",
    "from tensorflow.keras.callbacks import EarlyStopping\n",
    "from sklearn.model_selection import train_test_split\n",
    "from sklearn.preprocessing import LabelEncoder\n",
    "from skimage.feature import hog\n",
    "from sklearn.ensemble import RandomForestClassifier\n",
    "from sklearn.model_selection import GridSearchCV\n",
    "from sklearn.metrics import classification_report, confusion_matrix, accuracy_score"
   ]
  },
  {
   "cell_type": "markdown",
   "id": "498cd643",
   "metadata": {},
   "source": [
    "## Initializing/Import Data + Augmentation"
   ]
  },
  {
   "cell_type": "code",
   "execution_count": 2,
   "id": "5c705459",
   "metadata": {},
   "outputs": [],
   "source": [
    "csv_file = \"dataset/data_labels_mainData.csv\"\n",
    "mainData_df = pd.read_csv(csv_file)\n",
    "\n",
    "def load_data(dataframe, img_folder):\n",
    "    data = []\n",
    "    labels = []\n",
    "    \n",
    "    for index, row in dataframe.iterrows():\n",
    "        img_name = row['ImageName']\n",
    "        img_path = os.path.join(img_folder, img_name)\n",
    "        img = cv2.imread(img_path)\n",
    "        img = cv2.cvtColor(img, cv2.COLOR_BGR2RGB)\n",
    "        \n",
    "        data.append(img)\n",
    "        labels.append(row['isCancerous'])\n",
    "    \n",
    "    return np.array(data), np.array(labels)\n",
    "\n",
    "img_folder = \"dataset/patch_images/\"\n",
    "data, labels = load_data(mainData_df, img_folder)\n",
    "\n",
    "\n"
   ]
  },
  {
   "cell_type": "code",
   "execution_count": 3,
   "id": "3368883d",
   "metadata": {},
   "outputs": [],
   "source": [
    "#changing isCancerous column to bool\n",
    "mainData_df['isCancerous'] = mainData_df['isCancerous'].astype('bool')\n",
    "# Normalize the image data\n",
    "data = data.astype('float32') / 255.0"
   ]
  },
  {
   "cell_type": "code",
   "execution_count": 4,
   "id": "17d2a88d",
   "metadata": {},
   "outputs": [],
   "source": [
    "#image generator\n",
    "datagen = ImageDataGenerator(\n",
    "    rotation_range=20,\n",
    "    width_shift_range=0.1,\n",
    "    height_shift_range=0.1,\n",
    "    horizontal_flip=True,\n",
    "    vertical_flip=True,\n",
    ")\n",
    "\n",
    "# Apply data augmentation\n",
    "augmented_data = []\n",
    "augmented_labels = []\n",
    "\n",
    "for img, label in zip(data, labels):\n",
    "    img = img.reshape((1, *img.shape))\n",
    "    for _ in range(3):  # Number of times to augment each image\n",
    "        augmented_img = datagen.flow(img, batch_size=1)[0].reshape(img.shape[1:])\n",
    "        augmented_data.append(augmented_img)\n",
    "        augmented_labels.append(label)\n",
    "\n",
    "augmented_data = np.array(augmented_data)\n",
    "augmented_labels = np.array(augmented_labels)\n",
    "\n"
   ]
  },
  {
   "cell_type": "markdown",
   "id": "b7a8f943",
   "metadata": {},
   "source": [
    "## Model 1.1: Convolutional  Neural Network"
   ]
  },
  {
   "cell_type": "code",
   "execution_count": 5,
   "id": "402d435b",
   "metadata": {},
   "outputs": [],
   "source": [
    "#Building Neural Network Layers\n",
    "cancerModel = Sequential()\n",
    "\n",
    "cancerModel.add(Conv2D(32, (3, 3), activation='relu', input_shape=(27, 27, 3)))\n",
    "cancerModel.add(MaxPooling2D((2, 2)))\n",
    "\n",
    "cancerModel.add(Conv2D(64, (3, 3), activation='relu'))\n",
    "cancerModel.add(MaxPooling2D((2, 2)))\n",
    "\n",
    "cancerModel.add(Conv2D(128, (3, 3), activation='relu'))\n",
    "cancerModel.add(MaxPooling2D((2, 2)))\n",
    "\n",
    "cancerModel.add(Flatten())\n",
    "cancerModel.add(Dense(128, activation='relu'))\n",
    "cancerModel.add(Dropout(0.5))\n",
    "cancerModel.add(Dense(1, activation='softmax'))"
   ]
  },
  {
   "cell_type": "code",
   "execution_count": 6,
   "id": "c360c214",
   "metadata": {},
   "outputs": [
    {
     "name": "stdout",
     "output_type": "stream",
     "text": [
      "Epoch 1/50\n",
      "520/520 [==============================] - 5s 9ms/step - loss: 0.4505 - accuracy: 0.4133 - val_loss: 0.3128 - val_accuracy: 0.4138\n",
      "Epoch 2/50\n",
      "520/520 [==============================] - 4s 8ms/step - loss: 0.3329 - accuracy: 0.4133 - val_loss: 0.2982 - val_accuracy: 0.4138\n",
      "Epoch 3/50\n",
      "520/520 [==============================] - 4s 8ms/step - loss: 0.3106 - accuracy: 0.4133 - val_loss: 0.3082 - val_accuracy: 0.4138\n",
      "Epoch 4/50\n",
      "520/520 [==============================] - 4s 8ms/step - loss: 0.2953 - accuracy: 0.4133 - val_loss: 0.3090 - val_accuracy: 0.4138\n",
      "Epoch 5/50\n",
      "520/520 [==============================] - 4s 8ms/step - loss: 0.2849 - accuracy: 0.4133 - val_loss: 0.2615 - val_accuracy: 0.4138\n",
      "Epoch 6/50\n",
      "520/520 [==============================] - 4s 8ms/step - loss: 0.2769 - accuracy: 0.4133 - val_loss: 0.2932 - val_accuracy: 0.4138\n",
      "Epoch 7/50\n",
      "520/520 [==============================] - 4s 8ms/step - loss: 0.2671 - accuracy: 0.4133 - val_loss: 0.2633 - val_accuracy: 0.4138\n",
      "Epoch 8/50\n",
      "520/520 [==============================] - 4s 8ms/step - loss: 0.2742 - accuracy: 0.4133 - val_loss: 0.2538 - val_accuracy: 0.4138\n",
      "Epoch 9/50\n",
      "520/520 [==============================] - 4s 8ms/step - loss: 0.2635 - accuracy: 0.4133 - val_loss: 0.2970 - val_accuracy: 0.4138\n",
      "Epoch 10/50\n",
      "520/520 [==============================] - 4s 8ms/step - loss: 0.2587 - accuracy: 0.4133 - val_loss: 0.2599 - val_accuracy: 0.4138\n",
      "Epoch 11/50\n",
      "520/520 [==============================] - 4s 8ms/step - loss: 0.2511 - accuracy: 0.4133 - val_loss: 0.2665 - val_accuracy: 0.4138\n",
      "Epoch 12/50\n",
      "520/520 [==============================] - 4s 8ms/step - loss: 0.2587 - accuracy: 0.4133 - val_loss: 0.2653 - val_accuracy: 0.4138\n",
      "Epoch 13/50\n",
      "520/520 [==============================] - 4s 8ms/step - loss: 0.2441 - accuracy: 0.4133 - val_loss: 0.2857 - val_accuracy: 0.4138\n",
      "Epoch 14/50\n",
      "520/520 [==============================] - 4s 8ms/step - loss: 0.2368 - accuracy: 0.4133 - val_loss: 0.2647 - val_accuracy: 0.4138\n",
      "Epoch 15/50\n",
      "520/520 [==============================] - 4s 8ms/step - loss: 0.2384 - accuracy: 0.4133 - val_loss: 0.2572 - val_accuracy: 0.4138\n",
      "Epoch 16/50\n",
      "520/520 [==============================] - 4s 8ms/step - loss: 0.2285 - accuracy: 0.4133 - val_loss: 0.3123 - val_accuracy: 0.4138\n",
      "Epoch 17/50\n",
      "520/520 [==============================] - 4s 8ms/step - loss: 0.2189 - accuracy: 0.4133 - val_loss: 0.2557 - val_accuracy: 0.4138\n",
      "Epoch 18/50\n",
      "520/520 [==============================] - 4s 8ms/step - loss: 0.2128 - accuracy: 0.4133 - val_loss: 0.2904 - val_accuracy: 0.4138\n",
      "279/279 [==============================] - 1s 2ms/step\n",
      "279/279 [==============================] - 1s 3ms/step - loss: 0.2781 - accuracy: 0.4095\n",
      "279/279 [==============================] - 1s 3ms/step - loss: 0.2781 - accuracy: 0.4095\n",
      "Accuracy: 0.4095\n",
      "Loss: 0.2781\n",
      "\n",
      "Confusion Matrix:\n",
      " [[5260    0]\n",
      " [3647    0]]\n",
      "\n",
      "Classification Report:\n",
      "               precision    recall  f1-score   support\n",
      "\n",
      "           0       0.59      1.00      0.74      5260\n",
      "           1       0.00      0.00      0.00      3647\n",
      "\n",
      "    accuracy                           0.59      8907\n",
      "   macro avg       0.30      0.50      0.37      8907\n",
      "weighted avg       0.35      0.59      0.44      8907\n",
      "\n"
     ]
    },
    {
     "name": "stderr",
     "output_type": "stream",
     "text": [
      "C:\\Users\\Oscar\\anaconda3\\lib\\site-packages\\sklearn\\metrics\\_classification.py:1245: UndefinedMetricWarning: Precision and F-score are ill-defined and being set to 0.0 in labels with no predicted samples. Use `zero_division` parameter to control this behavior.\n",
      "  _warn_prf(average, modifier, msg_start, len(result))\n",
      "C:\\Users\\Oscar\\anaconda3\\lib\\site-packages\\sklearn\\metrics\\_classification.py:1245: UndefinedMetricWarning: Precision and F-score are ill-defined and being set to 0.0 in labels with no predicted samples. Use `zero_division` parameter to control this behavior.\n",
      "  _warn_prf(average, modifier, msg_start, len(result))\n",
      "C:\\Users\\Oscar\\anaconda3\\lib\\site-packages\\sklearn\\metrics\\_classification.py:1245: UndefinedMetricWarning: Precision and F-score are ill-defined and being set to 0.0 in labels with no predicted samples. Use `zero_division` parameter to control this behavior.\n",
      "  _warn_prf(average, modifier, msg_start, len(result))\n"
     ]
    }
   ],
   "source": [
    "# #Train test val split\n",
    "# X_cnn_train, X_cnn_test, y_cnn_train, y_cnn_test = train_test_split(augmented_data, augmented_labels, test_size=0.3, random_state=2)\n",
    "\n",
    "# # Compile the model\n",
    "# cancerModel.compile(optimizer='adam', loss='binary_crossentropy', metrics=['accuracy'])\n",
    "\n",
    "# early_stopping = EarlyStopping(monitor='val_loss', patience=10)\n",
    "\n",
    "# history = cancerModel.fit(X_cnn_train, y_cnn_train,\n",
    "#                         batch_size=32,\n",
    "#                         epochs=50,\n",
    "#                         validation_split=0.2,\n",
    "#                         callbacks=[early_stopping])\n",
    "\n",
    "# # Make predictions on the test set\n",
    "# y_pred_cnn = np.argmax(cancerModel.predict(X_cnn_test), axis=-1)\n",
    "# test_loss, test_accuracy = cancerModel.evaluate(X_cnn_test, y_cnn_test)\n",
    "\n",
    "# # Calculate the accuracy, confusion matrix, and classification report\n",
    "# test_loss, test_accuracy = cancerModel.evaluate(X_cnn_test, y_cnn_test)\n",
    "# cnn_conf_mat = confusion_matrix(y_cnn_test, y_pred_cnn)\n",
    "# cnn_class_report = classification_report(y_cnn_test, y_pred_cnn)\n",
    "\n",
    "# print(f\"Accuracy: {test_accuracy:.4f}\")\n",
    "# print(f\"Loss: {test_loss:.4f}\")\n",
    "# print(\"\\nConfusion Matrix:\\n\", cnn_conf_mat)\n",
    "# print(\"\\nClassification Report:\\n\", cnn_class_report)"
   ]
  },
  {
   "cell_type": "markdown",
   "id": "4547d0ea",
   "metadata": {},
   "source": [
    "## Model 1.2: Parameter Change: Activation Function + Learning Rate"
   ]
  },
  {
   "cell_type": "code",
   "execution_count": 7,
   "id": "ab76f0ed",
   "metadata": {},
   "outputs": [],
   "source": [
    "\n",
    "#Building Neural Network Layers\n",
    "cancersigModel = Sequential()\n",
    "\n",
    "cancersigModel.add(Conv2D(32, (3, 3), activation='sigmoid', input_shape=(27, 27, 3)))\n",
    "cancersigModel.add(MaxPooling2D((2, 2)))\n",
    "\n",
    "cancersigModel.add(Conv2D(64, (3, 3), activation='sigmoid'))\n",
    "cancersigModel.add(MaxPooling2D((2, 2)))\n",
    "\n",
    "cancersigModel.add(Conv2D(128, (3, 3), activation='sigmoid'))\n",
    "cancersigModel.add(MaxPooling2D((2, 2)))\n",
    "\n",
    "cancersigModel.add(Flatten())\n",
    "cancersigModel.add(Dense(128, activation='sigmoid'))\n",
    "cancersigModel.add(Dropout(0.5))\n",
    "cancersigModel.add(Dense(1, activation='sigmoid'))"
   ]
  },
  {
   "cell_type": "code",
   "execution_count": 8,
   "id": "e1d0e919",
   "metadata": {},
   "outputs": [
    {
     "name": "stdout",
     "output_type": "stream",
     "text": [
      "Epoch 1/50\n",
      "520/520 [==============================] - 5s 9ms/step - loss: 0.6926 - accuracy: 0.5666 - val_loss: 0.6782 - val_accuracy: 0.5862\n",
      "Epoch 2/50\n",
      "520/520 [==============================] - 4s 8ms/step - loss: 0.6802 - accuracy: 0.5861 - val_loss: 0.6782 - val_accuracy: 0.5862\n",
      "Epoch 3/50\n",
      "520/520 [==============================] - 4s 8ms/step - loss: 0.6059 - accuracy: 0.6654 - val_loss: 0.5467 - val_accuracy: 0.7368\n",
      "Epoch 4/50\n",
      "520/520 [==============================] - 4s 8ms/step - loss: 0.4063 - accuracy: 0.8182 - val_loss: 0.3496 - val_accuracy: 0.8542\n",
      "Epoch 5/50\n",
      "520/520 [==============================] - 4s 8ms/step - loss: 0.3376 - accuracy: 0.8562 - val_loss: 0.3876 - val_accuracy: 0.8229\n",
      "Epoch 6/50\n",
      "520/520 [==============================] - 4s 9ms/step - loss: 0.3149 - accuracy: 0.8673 - val_loss: 0.2904 - val_accuracy: 0.8780\n",
      "Epoch 7/50\n",
      "520/520 [==============================] - 4s 8ms/step - loss: 0.3056 - accuracy: 0.8711 - val_loss: 0.3059 - val_accuracy: 0.8749\n",
      "Epoch 8/50\n",
      "520/520 [==============================] - 4s 9ms/step - loss: 0.3011 - accuracy: 0.8755 - val_loss: 0.2935 - val_accuracy: 0.8756\n",
      "Epoch 9/50\n",
      "520/520 [==============================] - 4s 9ms/step - loss: 0.2975 - accuracy: 0.8772 - val_loss: 0.2953 - val_accuracy: 0.8759\n",
      "Epoch 10/50\n",
      "520/520 [==============================] - 4s 8ms/step - loss: 0.2961 - accuracy: 0.8781 - val_loss: 0.2791 - val_accuracy: 0.8848\n",
      "Epoch 11/50\n",
      "520/520 [==============================] - 4s 8ms/step - loss: 0.2921 - accuracy: 0.8832 - val_loss: 0.2793 - val_accuracy: 0.8869\n",
      "Epoch 12/50\n",
      "520/520 [==============================] - 4s 8ms/step - loss: 0.2926 - accuracy: 0.8798 - val_loss: 0.2959 - val_accuracy: 0.8778\n",
      "Epoch 13/50\n",
      "520/520 [==============================] - 4s 8ms/step - loss: 0.2884 - accuracy: 0.8831 - val_loss: 0.2763 - val_accuracy: 0.8893\n",
      "Epoch 14/50\n",
      "520/520 [==============================] - 4s 9ms/step - loss: 0.2908 - accuracy: 0.8801 - val_loss: 0.2867 - val_accuracy: 0.8836\n",
      "Epoch 15/50\n",
      "520/520 [==============================] - 4s 9ms/step - loss: 0.2912 - accuracy: 0.8795 - val_loss: 0.2830 - val_accuracy: 0.8841\n",
      "Epoch 16/50\n",
      "520/520 [==============================] - 4s 8ms/step - loss: 0.2877 - accuracy: 0.8844 - val_loss: 0.2838 - val_accuracy: 0.8843\n",
      "Epoch 17/50\n",
      "520/520 [==============================] - 4s 8ms/step - loss: 0.2861 - accuracy: 0.8843 - val_loss: 0.2844 - val_accuracy: 0.8860\n",
      "Epoch 18/50\n",
      "520/520 [==============================] - 4s 8ms/step - loss: 0.2792 - accuracy: 0.8867 - val_loss: 0.2793 - val_accuracy: 0.8855\n",
      "Epoch 19/50\n",
      "520/520 [==============================] - 4s 9ms/step - loss: 0.2893 - accuracy: 0.8835 - val_loss: 0.2774 - val_accuracy: 0.8860\n",
      "Epoch 20/50\n",
      "520/520 [==============================] - 4s 9ms/step - loss: 0.2795 - accuracy: 0.8861 - val_loss: 0.2767 - val_accuracy: 0.8855\n",
      "Epoch 21/50\n",
      "520/520 [==============================] - 4s 9ms/step - loss: 0.2791 - accuracy: 0.8852 - val_loss: 0.2964 - val_accuracy: 0.8764\n",
      "Epoch 22/50\n",
      "520/520 [==============================] - 4s 9ms/step - loss: 0.2812 - accuracy: 0.8870 - val_loss: 0.2939 - val_accuracy: 0.8814\n",
      "Epoch 23/50\n",
      "520/520 [==============================] - 4s 9ms/step - loss: 0.2750 - accuracy: 0.8881 - val_loss: 0.2789 - val_accuracy: 0.8865\n",
      "279/279 [==============================] - 1s 3ms/step\n",
      "279/279 [==============================] - 1s 3ms/step - loss: 0.2721 - accuracy: 0.8892\n",
      "Accuracy: 0.8892\n",
      "Loss: 0.2721\n",
      "\n",
      "Confusion Matrix:\n",
      " [[5260    0]\n",
      " [3647    0]]\n",
      "\n",
      "Classification Report:\n",
      "               precision    recall  f1-score   support\n",
      "\n",
      "           0       0.59      1.00      0.74      5260\n",
      "           1       0.00      0.00      0.00      3647\n",
      "\n",
      "    accuracy                           0.59      8907\n",
      "   macro avg       0.30      0.50      0.37      8907\n",
      "weighted avg       0.35      0.59      0.44      8907\n",
      "\n"
     ]
    },
    {
     "name": "stderr",
     "output_type": "stream",
     "text": [
      "C:\\Users\\Oscar\\anaconda3\\lib\\site-packages\\sklearn\\metrics\\_classification.py:1245: UndefinedMetricWarning: Precision and F-score are ill-defined and being set to 0.0 in labels with no predicted samples. Use `zero_division` parameter to control this behavior.\n",
      "  _warn_prf(average, modifier, msg_start, len(result))\n",
      "C:\\Users\\Oscar\\anaconda3\\lib\\site-packages\\sklearn\\metrics\\_classification.py:1245: UndefinedMetricWarning: Precision and F-score are ill-defined and being set to 0.0 in labels with no predicted samples. Use `zero_division` parameter to control this behavior.\n",
      "  _warn_prf(average, modifier, msg_start, len(result))\n",
      "C:\\Users\\Oscar\\anaconda3\\lib\\site-packages\\sklearn\\metrics\\_classification.py:1245: UndefinedMetricWarning: Precision and F-score are ill-defined and being set to 0.0 in labels with no predicted samples. Use `zero_division` parameter to control this behavior.\n",
      "  _warn_prf(average, modifier, msg_start, len(result))\n"
     ]
    }
   ],
   "source": [
    "# #Train test val split\n",
    "# X_sig_train, X_sig_test, y_sig_train, y_sig_test = train_test_split(augmented_data, augmented_labels, test_size=0.3, random_state=2)\n",
    "\n",
    "# # Compile the model\n",
    "# cancersigModel.compile(optimizer=Adam(learning_rate=0.001), loss='binary_crossentropy', metrics=['accuracy'])\n",
    "\n",
    "# early_stopping = EarlyStopping(monitor='val_loss', patience=10)\n",
    "\n",
    "# history = cancersigModel.fit(X_sig_train, y_sig_train,\n",
    "#                         batch_size=32,\n",
    "#                         epochs=50,\n",
    "#                         validation_split=0.2,\n",
    "#                         callbacks=[early_stopping])\n",
    "\n",
    "# # Make predictions on the test set\n",
    "# y_pred_sig = np.argmax(cancersigModel.predict(X_sig_test), axis=-1)\n",
    "\n",
    "# # Calculate the accuracy, confusion matrix, and classification report\n",
    "# test_loss, test_accuracy = cancersigModel.evaluate(X_sig_test, y_sig_test)\n",
    "# sig_conf_mat = confusion_matrix(y_sig_test, y_pred_sig)\n",
    "# sig_class_report = classification_report(y_sig_test, y_pred_sig)\n",
    "# print(f\"Accuracy: {test_accuracy:.4f}\")\n",
    "# print(f\"Loss: {test_loss:.4f}\")\n",
    "# print(\"\\nConfusion Matrix:\\n\", sig_conf_mat)\n",
    "# print(\"\\nClassification Report:\\n\", sig_class_report)"
   ]
  },
  {
   "cell_type": "markdown",
   "id": "61c17649",
   "metadata": {},
   "source": [
    "## Model 2: Random Forest"
   ]
  },
  {
   "cell_type": "markdown",
   "id": "b4ab4ef3",
   "metadata": {},
   "source": [
    "## HOG"
   ]
  },
  {
   "cell_type": "code",
   "execution_count": 9,
   "id": "8819c0cf",
   "metadata": {},
   "outputs": [],
   "source": [
    "#Train test val split\n",
    "X_rfc_train, X_rfc_test, y_rfc_train, y_rfc_test = train_test_split(augmented_data, augmented_labels, test_size=0.3, random_state=2)\n",
    "\n"
   ]
  },
  {
   "cell_type": "code",
   "execution_count": 10,
   "id": "7424ec73",
   "metadata": {},
   "outputs": [],
   "source": [
    "# def extract_hog_features(images):\n",
    "#     features = []\n",
    "#     for img in images:\n",
    "#         hog_feature, hog_image = hog(img, orientations=8, pixels_per_cell=(16, 16),\n",
    "#                     cells_per_block=(1, 1), visualize=True)\n",
    "#         features.append(hog_feature)\n",
    "#     return np.array(features)\n",
    "\n",
    "# X_train_hog = extract_hog_features(X_rfc_train)\n",
    "# X_test_hog = extract_hog_features(X_rfc_test)"
   ]
  },
  {
   "cell_type": "markdown",
   "id": "c154081e",
   "metadata": {},
   "source": [
    "## Random Forest Classifier"
   ]
  },
  {
   "cell_type": "code",
   "execution_count": 11,
   "id": "ca8ecda1",
   "metadata": {},
   "outputs": [
    {
     "data": {
      "text/plain": [
       "RandomForestClassifier(random_state=42)"
      ]
     },
     "execution_count": 11,
     "metadata": {},
     "output_type": "execute_result"
    }
   ],
   "source": [
    "rfc_classifier = RandomForestClassifier(n_estimators=100, random_state=42)\n",
    "rfc_classifier.fit(X_train_hog, y_rfc_train)"
   ]
  },
  {
   "cell_type": "markdown",
   "id": "c2964b9a",
   "metadata": {},
   "source": [
    "## Determining the best hyperparameters"
   ]
  },
  {
   "cell_type": "code",
   "execution_count": 12,
   "id": "8bb8abd3",
   "metadata": {},
   "outputs": [
    {
     "name": "stdout",
     "output_type": "stream",
     "text": [
      "Hyperparameters: {'max_depth': 5, 'max_features': 'log2', 'n_estimators': 300}\n"
     ]
    }
   ],
   "source": [
    "# param_grid = {\n",
    "#     'n_estimators': [100, 200, 300],  \n",
    "#     'max_depth': [None, 5, 10],      \n",
    "#     'max_features': ['sqrt', 'log2'] \n",
    "# }\n",
    "\n",
    "# gridsearch = GridSearchCV(estimator=rfc_classifier, param_grid=param_grid, cv=5)\n",
    "# gridsearch.fit(X_train_hog, y_rfc_train)\n",
    "# params = gridsearch.best_params_\n",
    "# print(\"Hyperparameters:\", params)"
   ]
  },
  {
   "cell_type": "markdown",
   "id": "84c38de9",
   "metadata": {},
   "source": [
    "### Training Random Forest Classifier"
   ]
  },
  {
   "cell_type": "code",
   "execution_count": 13,
   "id": "690f0215",
   "metadata": {},
   "outputs": [],
   "source": [
    "# # recreating model with new parameters\n",
    "# reparam_rfc_classifier = RandomForestClassifier(**params)\n",
    "# reparam_rfc_classifier.fit(X_train_hog, y_rfc_train)\n",
    "\n",
    "# # Make predictions on the test data\n",
    "# rfc_predictions = reparam_rfc_classifier.predict(X_test_hog)\n"
   ]
  },
  {
   "cell_type": "markdown",
   "id": "f7835322",
   "metadata": {},
   "source": [
    "### Evaluation"
   ]
  },
  {
   "cell_type": "code",
   "execution_count": 14,
   "id": "2ace6880",
   "metadata": {},
   "outputs": [
    {
     "name": "stdout",
     "output_type": "stream",
     "text": [
      "Accuracy: 0.5905\n",
      "\n",
      "Confusion Matrix:\n",
      " [[5260    0]\n",
      " [3647    0]]\n",
      "\n",
      "Classification Report:\n",
      "               precision    recall  f1-score   support\n",
      "\n",
      "           0       0.59      1.00      0.74      5260\n",
      "           1       0.00      0.00      0.00      3647\n",
      "\n",
      "    accuracy                           0.59      8907\n",
      "   macro avg       0.30      0.50      0.37      8907\n",
      "weighted avg       0.35      0.59      0.44      8907\n",
      "\n"
     ]
    },
    {
     "name": "stderr",
     "output_type": "stream",
     "text": [
      "C:\\Users\\Oscar\\anaconda3\\lib\\site-packages\\sklearn\\metrics\\_classification.py:1245: UndefinedMetricWarning: Precision and F-score are ill-defined and being set to 0.0 in labels with no predicted samples. Use `zero_division` parameter to control this behavior.\n",
      "  _warn_prf(average, modifier, msg_start, len(result))\n",
      "C:\\Users\\Oscar\\anaconda3\\lib\\site-packages\\sklearn\\metrics\\_classification.py:1245: UndefinedMetricWarning: Precision and F-score are ill-defined and being set to 0.0 in labels with no predicted samples. Use `zero_division` parameter to control this behavior.\n",
      "  _warn_prf(average, modifier, msg_start, len(result))\n",
      "C:\\Users\\Oscar\\anaconda3\\lib\\site-packages\\sklearn\\metrics\\_classification.py:1245: UndefinedMetricWarning: Precision and F-score are ill-defined and being set to 0.0 in labels with no predicted samples. Use `zero_division` parameter to control this behavior.\n",
      "  _warn_prf(average, modifier, msg_start, len(result))\n"
     ]
    }
   ],
   "source": [
    "\n",
    "# # Evaluate the accuracy of the model\n",
    "# rfc_accuracy = accuracy_score(y_rfc_test, rfc_predictions)\n",
    "# rfc_conf_mat = confusion_matrix(y_rfc_test, rfc_predictions)\n",
    "# rfc_class_report = classification_report(y_rfc_test, rfc_predictions)\n",
    "# print(f\"Accuracy: {rfc_accuracy:.4f}\")\n",
    "# print(\"\\nConfusion Matrix:\\n\", rfc_conf_mat)\n",
    "# print(\"\\nClassification Report:\\n\", rfc_class_report)"
   ]
  },
  {
   "cell_type": "markdown",
   "id": "3c1fe08e",
   "metadata": {},
   "source": [
    "## Model 3: CNN + Random Forest"
   ]
  },
  {
   "cell_type": "markdown",
   "id": "0fc27f34",
   "metadata": {},
   "source": [
    "### From CNN sig in Model 1.2\n",
    "\n",
    "**NOTE: Model 1.2 code MUST be run before using Model 3**"
   ]
  },
  {
   "cell_type": "code",
   "execution_count": 15,
   "id": "747f7d3c",
   "metadata": {},
   "outputs": [
    {
     "name": "stdout",
     "output_type": "stream",
     "text": [
      "650/650 [==============================] - 2s 3ms/step\n"
     ]
    }
   ],
   "source": [
    "target_layer = tf.keras.Model(inputs=cancersigModel.input, outputs=cancersigModel.layers[-2].output)\n",
    "\n",
    "def extract_sig_features(images):\n",
    "    features = target_layer.predict(images)\n",
    "    return features\n",
    "\n",
    "train_sig_features = extract_sig_features(X_sig_train)\n",
    "train_sig_features = train_sig_features.reshape(train_sig_features.shape[0], -1)\n"
   ]
  },
  {
   "cell_type": "markdown",
   "id": "d4e650cc",
   "metadata": {},
   "source": [
    "### Training Random Forest Classifier"
   ]
  },
  {
   "cell_type": "code",
   "execution_count": 16,
   "id": "ee8cbf1b",
   "metadata": {},
   "outputs": [
    {
     "data": {
      "text/plain": [
       "RandomForestClassifier()"
      ]
     },
     "execution_count": 16,
     "metadata": {},
     "output_type": "execute_result"
    }
   ],
   "source": [
    "rfc_classifier = RandomForestClassifier()\n",
    "\n",
    "rfc_classifier.fit(train_sig_features, y_sig_train)"
   ]
  },
  {
   "cell_type": "markdown",
   "id": "d308c632",
   "metadata": {},
   "source": [
    "### Evaluation"
   ]
  },
  {
   "cell_type": "code",
   "execution_count": 17,
   "id": "042faae4",
   "metadata": {},
   "outputs": [
    {
     "name": "stdout",
     "output_type": "stream",
     "text": [
      "279/279 [==============================] - 1s 3ms/step\n"
     ]
    }
   ],
   "source": [
    "test_sig_features = extract_sig_features(X_sig_test)\n",
    "test_sig_features = test_sig_features.reshape(test_sig_features.shape[0], -1)\n",
    "rfsig_predictions = rfc_classifier.predict(test_sig_features)"
   ]
  },
  {
   "cell_type": "code",
   "execution_count": 18,
   "id": "c6d7f90a",
   "metadata": {},
   "outputs": [
    {
     "name": "stdout",
     "output_type": "stream",
     "text": [
      "Accuracy: 0.8923\n",
      "\n",
      "Confusion Matrix:\n",
      " [[4818  442]\n",
      " [ 517 3130]]\n",
      "\n",
      "Classification Report:\n",
      "               precision    recall  f1-score   support\n",
      "\n",
      "           0       0.90      0.92      0.91      5260\n",
      "           1       0.88      0.86      0.87      3647\n",
      "\n",
      "    accuracy                           0.89      8907\n",
      "   macro avg       0.89      0.89      0.89      8907\n",
      "weighted avg       0.89      0.89      0.89      8907\n",
      "\n"
     ]
    }
   ],
   "source": [
    "rfsig_accuracy = accuracy_score(y_sig_test, rfsig_predictions)\n",
    "rfsig_conf_mat = confusion_matrix(y_sig_test, rfsig_predictions)\n",
    "rfsig_class_report = classification_report(y_sig_test, rfsig_predictions)\n",
    "\n",
    "print(f\"Accuracy: {rfsig_accuracy:.4f}\")\n",
    "print(\"\\nConfusion Matrix:\\n\", rfsig_conf_mat)\n",
    "print(\"\\nClassification Report:\\n\", rfsig_class_report)"
   ]
  },
  {
   "cell_type": "code",
   "execution_count": null,
   "id": "11abb738",
   "metadata": {},
   "outputs": [],
   "source": []
  }
 ],
 "metadata": {
  "kernelspec": {
   "display_name": "Python 3",
   "language": "python",
   "name": "python3"
  },
  "language_info": {
   "codemirror_mode": {
    "name": "ipython",
    "version": 3
   },
   "file_extension": ".py",
   "mimetype": "text/x-python",
   "name": "python",
   "nbconvert_exporter": "python",
   "pygments_lexer": "ipython3",
   "version": "3.8.8"
  }
 },
 "nbformat": 4,
 "nbformat_minor": 5
}
