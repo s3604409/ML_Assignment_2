{
 "cells": [
  {
   "cell_type": "code",
   "execution_count": 1,
   "id": "f2f11a03",
   "metadata": {},
   "outputs": [],
   "source": [
    "import tensorflow as tf\n",
    "import pandas as pd\n",
    "import numpy as np\n",
    "import os\n",
    "import cv2\n",
    "from tensorflow import keras\n",
    "from tensorflow.keras.optimizers import Adam\n",
    "from tensorflow.keras.models import Sequential\n",
    "from tensorflow.keras.layers import Conv2D, MaxPooling2D, Flatten, Dense, Dropout\n",
    "from tensorflow.keras.preprocessing.image import ImageDataGenerator\n",
    "from tensorflow.keras.callbacks import EarlyStopping\n",
    "from sklearn.model_selection import train_test_split\n",
    "from sklearn.preprocessing import LabelEncoder\n",
    "from skimage.feature import hog\n",
    "from sklearn.ensemble import RandomForestClassifier\n",
    "from sklearn.model_selection import GridSearchCV\n",
    "from sklearn.metrics import classification_report, confusion_matrix, accuracy_score"
   ]
  },
  {
   "cell_type": "markdown",
   "id": "498cd643",
   "metadata": {},
   "source": [
    "## Initializing/Import Data + Augmentation"
   ]
  },
  {
   "cell_type": "code",
   "execution_count": 2,
   "id": "5c705459",
   "metadata": {},
   "outputs": [],
   "source": [
    "csv_file = \"dataset/data_labels_mainData.csv\"\n",
    "mainData_df = pd.read_csv(csv_file)\n",
    "\n",
    "def load_data(dataframe, img_folder):\n",
    "    data = []\n",
    "    labels = []\n",
    "    \n",
    "    for index, row in dataframe.iterrows():\n",
    "        img_name = row['ImageName']\n",
    "        img_path = os.path.join(img_folder, img_name)\n",
    "        img = cv2.imread(img_path)\n",
    "        img = cv2.cvtColor(img, cv2.COLOR_BGR2RGB)\n",
    "        \n",
    "        data.append(img)\n",
    "        labels.append(row['isCancerous'])\n",
    "    \n",
    "    return np.array(data), np.array(labels)\n",
    "\n",
    "img_folder = \"dataset/patch_images/\"\n",
    "data, labels = load_data(mainData_df, img_folder)\n",
    "\n",
    "\n"
   ]
  },
  {
   "cell_type": "code",
   "execution_count": 3,
   "id": "3368883d",
   "metadata": {},
   "outputs": [],
   "source": [
    "#changing isCancerous column to bool\n",
    "mainData_df['isCancerous'] = mainData_df['isCancerous'].astype('bool')\n",
    "# Normalize the image data\n",
    "data = data.astype('float32') / 255.0\n",
    "\n"
   ]
  },
  {
   "cell_type": "code",
   "execution_count": 4,
   "id": "17d2a88d",
   "metadata": {},
   "outputs": [],
   "source": [
    "#image generator\n",
    "datagen = ImageDataGenerator(\n",
    "    rotation_range=20,\n",
    "    width_shift_range=0.1,\n",
    "    height_shift_range=0.1,\n",
    "    horizontal_flip=True,\n",
    "    vertical_flip=True,\n",
    ")\n",
    "\n",
    "# Apply data augmentation\n",
    "augmented_data = []\n",
    "augmented_labels = []\n",
    "\n",
    "for img, label in zip(data, labels):\n",
    "    img = img.reshape((1, *img.shape))\n",
    "    for _ in range(3):  # Number of times to augment each image\n",
    "        augmented_img = datagen.flow(img, batch_size=1)[0].reshape(img.shape[1:])\n",
    "        augmented_data.append(augmented_img)\n",
    "        augmented_labels.append(label)\n",
    "\n",
    "augmented_data = np.array(augmented_data)\n",
    "augmented_labels = np.array(augmented_labels)\n",
    "\n"
   ]
  },
  {
   "cell_type": "markdown",
   "id": "b7a8f943",
   "metadata": {},
   "source": [
    "## Model 1.1: Convolutional  Neural Network"
   ]
  },
  {
   "cell_type": "code",
   "execution_count": 5,
   "id": "402d435b",
   "metadata": {},
   "outputs": [],
   "source": [
    "#Building Neural Network Layers\n",
    "cancerModel = Sequential()\n",
    "\n",
    "cancerModel.add(Conv2D(32, (3, 3), activation='relu', input_shape=(27, 27, 3)))\n",
    "cancerModel.add(MaxPooling2D((2, 2)))\n",
    "\n",
    "cancerModel.add(Conv2D(64, (3, 3), activation='relu'))\n",
    "cancerModel.add(MaxPooling2D((2, 2)))\n",
    "\n",
    "cancerModel.add(Conv2D(128, (3, 3), activation='relu'))\n",
    "cancerModel.add(MaxPooling2D((2, 2)))\n",
    "\n",
    "cancerModel.add(Flatten())\n",
    "cancerModel.add(Dense(128, activation='relu'))\n",
    "cancerModel.add(Dropout(0.5))\n",
    "cancerModel.add(Dense(1, activation='softmax'))"
   ]
  },
  {
   "cell_type": "code",
   "execution_count": 6,
   "id": "c360c214",
   "metadata": {},
   "outputs": [],
   "source": [
    "# #Train test val split\n",
    "# X_cnn_train, X_cnn_test, y_cnn_train, y_cnn_test = train_test_split(augmented_data, augmented_labels, test_size=0.3, random_state=2)\n",
    "\n",
    "# # Compile the model\n",
    "# cancerModel.compile(optimizer='adam', loss='binary_crossentropy', metrics=['accuracy'])\n",
    "\n",
    "# early_stopping = EarlyStopping(monitor='val_loss', patience=10)\n",
    "\n",
    "# history = cancerModel.fit(X_cnn_train, y_cnn_train,\n",
    "#                         batch_size=32,\n",
    "#                         epochs=50,\n",
    "#                         validation_split=0.2,\n",
    "#                         callbacks=[early_stopping])\n",
    "\n",
    "# # Make predictions on the test set\n",
    "# y_pred_cnn = np.argmax(cancerModel.predict(X_cnn_test), axis=-1)\n",
    "# test_loss, test_accuracy = cancerModel.evaluate(X_cnn_test, y_cnn_test)\n",
    "\n",
    "# # Calculate the accuracy, confusion matrix, and classification report\n",
    "# test_loss, test_accuracy = cancerModel.evaluate(X_cnn_test, y_cnn_test)\n",
    "\n",
    "# print(f\"Accuracy: {test_accuracy:.4f}\")\n",
    "# print(f\"Loss: {test_loss:.4f}\")"
   ]
  },
  {
   "cell_type": "markdown",
   "id": "4547d0ea",
   "metadata": {},
   "source": [
    "## Model 1.2: Parameter Change: Activation Function + Learning Rate"
   ]
  },
  {
   "cell_type": "code",
   "execution_count": 7,
   "id": "ab76f0ed",
   "metadata": {},
   "outputs": [],
   "source": [
    "\n",
    "#Building Neural Network Layers\n",
    "cancersigModel = Sequential()\n",
    "\n",
    "cancersigModel.add(Conv2D(32, (3, 3), activation='sigmoid', input_shape=(27, 27, 3)))\n",
    "cancersigModel.add(MaxPooling2D((2, 2)))\n",
    "\n",
    "cancersigModel.add(Conv2D(64, (3, 3), activation='sigmoid'))\n",
    "cancersigModel.add(MaxPooling2D((2, 2)))\n",
    "\n",
    "cancersigModel.add(Conv2D(128, (3, 3), activation='sigmoid'))\n",
    "cancersigModel.add(MaxPooling2D((2, 2)))\n",
    "\n",
    "cancersigModel.add(Flatten())\n",
    "cancersigModel.add(Dense(128, activation='sigmoid'))\n",
    "cancersigModel.add(Dropout(0.5))\n",
    "cancersigModel.add(Dense(1, activation='sigmoid'))"
   ]
  },
  {
   "cell_type": "code",
   "execution_count": 8,
   "id": "e1d0e919",
   "metadata": {},
   "outputs": [
    {
     "name": "stdout",
     "output_type": "stream",
     "text": [
      "Epoch 1/50\n",
      "520/520 [==============================] - 5s 8ms/step - loss: 0.6904 - accuracy: 0.5679 - val_loss: 0.6834 - val_accuracy: 0.5862\n",
      "Epoch 2/50\n",
      "520/520 [==============================] - 4s 8ms/step - loss: 0.6521 - accuracy: 0.6135 - val_loss: 0.4984 - val_accuracy: 0.7602\n",
      "Epoch 3/50\n",
      "520/520 [==============================] - 4s 7ms/step - loss: 0.4314 - accuracy: 0.8029 - val_loss: 0.3578 - val_accuracy: 0.8386\n",
      "Epoch 4/50\n",
      "520/520 [==============================] - 4s 8ms/step - loss: 0.3406 - accuracy: 0.8567 - val_loss: 0.3947 - val_accuracy: 0.8191\n",
      "Epoch 5/50\n",
      "520/520 [==============================] - 4s 8ms/step - loss: 0.3193 - accuracy: 0.8625 - val_loss: 0.3056 - val_accuracy: 0.8667\n",
      "Epoch 6/50\n",
      "520/520 [==============================] - 4s 7ms/step - loss: 0.3143 - accuracy: 0.8674 - val_loss: 0.3347 - val_accuracy: 0.8547\n",
      "Epoch 7/50\n",
      "520/520 [==============================] - 4s 8ms/step - loss: 0.3017 - accuracy: 0.8752 - val_loss: 0.2968 - val_accuracy: 0.8730\n",
      "Epoch 8/50\n",
      "520/520 [==============================] - 4s 8ms/step - loss: 0.3027 - accuracy: 0.8730 - val_loss: 0.3026 - val_accuracy: 0.8711\n",
      "Epoch 9/50\n",
      "520/520 [==============================] - 4s 8ms/step - loss: 0.2988 - accuracy: 0.8754 - val_loss: 0.3038 - val_accuracy: 0.8747\n",
      "Epoch 10/50\n",
      "520/520 [==============================] - 4s 8ms/step - loss: 0.3066 - accuracy: 0.8701 - val_loss: 0.3047 - val_accuracy: 0.8718\n",
      "Epoch 11/50\n",
      "520/520 [==============================] - 4s 8ms/step - loss: 0.2987 - accuracy: 0.8741 - val_loss: 0.2969 - val_accuracy: 0.8713\n",
      "Epoch 12/50\n",
      "520/520 [==============================] - 4s 8ms/step - loss: 0.2994 - accuracy: 0.8753 - val_loss: 0.2848 - val_accuracy: 0.8771\n",
      "Epoch 13/50\n",
      "520/520 [==============================] - 4s 8ms/step - loss: 0.2893 - accuracy: 0.8800 - val_loss: 0.2795 - val_accuracy: 0.8833\n",
      "Epoch 14/50\n",
      "520/520 [==============================] - 4s 8ms/step - loss: 0.2906 - accuracy: 0.8814 - val_loss: 0.3013 - val_accuracy: 0.8701\n",
      "Epoch 15/50\n",
      "520/520 [==============================] - 4s 8ms/step - loss: 0.2919 - accuracy: 0.8790 - val_loss: 0.3028 - val_accuracy: 0.8720\n",
      "Epoch 16/50\n",
      "520/520 [==============================] - 4s 8ms/step - loss: 0.2876 - accuracy: 0.8808 - val_loss: 0.2724 - val_accuracy: 0.8843\n",
      "Epoch 17/50\n",
      "520/520 [==============================] - 4s 8ms/step - loss: 0.2862 - accuracy: 0.8814 - val_loss: 0.2704 - val_accuracy: 0.8860\n",
      "Epoch 18/50\n",
      "520/520 [==============================] - 4s 8ms/step - loss: 0.2858 - accuracy: 0.8826 - val_loss: 0.2740 - val_accuracy: 0.8877\n",
      "Epoch 19/50\n",
      "520/520 [==============================] - 4s 8ms/step - loss: 0.2852 - accuracy: 0.8820 - val_loss: 0.2721 - val_accuracy: 0.8891\n",
      "Epoch 20/50\n",
      "520/520 [==============================] - 4s 8ms/step - loss: 0.2869 - accuracy: 0.8823 - val_loss: 0.2755 - val_accuracy: 0.8848\n",
      "Epoch 21/50\n",
      "520/520 [==============================] - 4s 8ms/step - loss: 0.2824 - accuracy: 0.8853 - val_loss: 0.2886 - val_accuracy: 0.8785\n",
      "Epoch 22/50\n",
      "520/520 [==============================] - 4s 8ms/step - loss: 0.2760 - accuracy: 0.8851 - val_loss: 0.2846 - val_accuracy: 0.8831\n",
      "Epoch 23/50\n",
      "520/520 [==============================] - 4s 7ms/step - loss: 0.2740 - accuracy: 0.8895 - val_loss: 0.2686 - val_accuracy: 0.8874\n",
      "Epoch 24/50\n",
      "520/520 [==============================] - 4s 8ms/step - loss: 0.2744 - accuracy: 0.8870 - val_loss: 0.2720 - val_accuracy: 0.8865\n",
      "Epoch 25/50\n",
      "520/520 [==============================] - 4s 8ms/step - loss: 0.2781 - accuracy: 0.8864 - val_loss: 0.2856 - val_accuracy: 0.8812\n",
      "Epoch 26/50\n",
      "520/520 [==============================] - 4s 8ms/step - loss: 0.2723 - accuracy: 0.8860 - val_loss: 0.2793 - val_accuracy: 0.8857\n",
      "Epoch 27/50\n",
      "520/520 [==============================] - 4s 8ms/step - loss: 0.2731 - accuracy: 0.8918 - val_loss: 0.2623 - val_accuracy: 0.8917\n",
      "Epoch 28/50\n",
      "520/520 [==============================] - 4s 8ms/step - loss: 0.2703 - accuracy: 0.8891 - val_loss: 0.2666 - val_accuracy: 0.8910\n",
      "Epoch 29/50\n",
      "520/520 [==============================] - 4s 8ms/step - loss: 0.2745 - accuracy: 0.8864 - val_loss: 0.2737 - val_accuracy: 0.8855\n",
      "Epoch 30/50\n",
      "520/520 [==============================] - 4s 8ms/step - loss: 0.2694 - accuracy: 0.8882 - val_loss: 0.2636 - val_accuracy: 0.8901\n",
      "Epoch 31/50\n",
      "520/520 [==============================] - 4s 7ms/step - loss: 0.2707 - accuracy: 0.8905 - val_loss: 0.2721 - val_accuracy: 0.8913\n",
      "Epoch 32/50\n",
      "520/520 [==============================] - 4s 8ms/step - loss: 0.2654 - accuracy: 0.8912 - val_loss: 0.2885 - val_accuracy: 0.8845\n",
      "Epoch 33/50\n",
      "520/520 [==============================] - 4s 7ms/step - loss: 0.2673 - accuracy: 0.8906 - val_loss: 0.2690 - val_accuracy: 0.8915\n",
      "Epoch 34/50\n",
      "520/520 [==============================] - 4s 8ms/step - loss: 0.2674 - accuracy: 0.8917 - val_loss: 0.2677 - val_accuracy: 0.8913\n",
      "Epoch 35/50\n",
      "520/520 [==============================] - 4s 8ms/step - loss: 0.2655 - accuracy: 0.8927 - val_loss: 0.2620 - val_accuracy: 0.8958\n",
      "Epoch 36/50\n",
      "520/520 [==============================] - 4s 8ms/step - loss: 0.2636 - accuracy: 0.8941 - val_loss: 0.2740 - val_accuracy: 0.8893\n",
      "Epoch 37/50\n",
      "520/520 [==============================] - 4s 8ms/step - loss: 0.2627 - accuracy: 0.8942 - val_loss: 0.2757 - val_accuracy: 0.8886\n",
      "Epoch 38/50\n",
      "520/520 [==============================] - 4s 8ms/step - loss: 0.2598 - accuracy: 0.8955 - val_loss: 0.2641 - val_accuracy: 0.8881\n",
      "Epoch 39/50\n",
      "520/520 [==============================] - 4s 8ms/step - loss: 0.2616 - accuracy: 0.8937 - val_loss: 0.2614 - val_accuracy: 0.8954\n",
      "Epoch 40/50\n",
      "520/520 [==============================] - 4s 7ms/step - loss: 0.2560 - accuracy: 0.8946 - val_loss: 0.2703 - val_accuracy: 0.8886\n",
      "Epoch 41/50\n",
      "520/520 [==============================] - 4s 7ms/step - loss: 0.2534 - accuracy: 0.8975 - val_loss: 0.2655 - val_accuracy: 0.8937\n",
      "Epoch 42/50\n",
      "520/520 [==============================] - 4s 7ms/step - loss: 0.2532 - accuracy: 0.8976 - val_loss: 0.2619 - val_accuracy: 0.8975\n",
      "Epoch 43/50\n",
      "520/520 [==============================] - 4s 8ms/step - loss: 0.2516 - accuracy: 0.8971 - val_loss: 0.2684 - val_accuracy: 0.8920\n",
      "Epoch 44/50\n",
      "520/520 [==============================] - 4s 8ms/step - loss: 0.2529 - accuracy: 0.8969 - val_loss: 0.2677 - val_accuracy: 0.8862\n",
      "Epoch 45/50\n",
      "520/520 [==============================] - 4s 8ms/step - loss: 0.2475 - accuracy: 0.9025 - val_loss: 0.2627 - val_accuracy: 0.8917\n",
      "Epoch 46/50\n",
      "520/520 [==============================] - 4s 8ms/step - loss: 0.2467 - accuracy: 0.9000 - val_loss: 0.2576 - val_accuracy: 0.8968\n",
      "Epoch 47/50\n",
      "520/520 [==============================] - 4s 8ms/step - loss: 0.2519 - accuracy: 0.8965 - val_loss: 0.2871 - val_accuracy: 0.8836\n",
      "Epoch 48/50\n",
      "520/520 [==============================] - 4s 8ms/step - loss: 0.2500 - accuracy: 0.8991 - val_loss: 0.3324 - val_accuracy: 0.8653\n",
      "Epoch 49/50\n",
      "520/520 [==============================] - 4s 8ms/step - loss: 0.2488 - accuracy: 0.9000 - val_loss: 0.2573 - val_accuracy: 0.9004\n",
      "Epoch 50/50\n",
      "520/520 [==============================] - 4s 8ms/step - loss: 0.2388 - accuracy: 0.9049 - val_loss: 0.2612 - val_accuracy: 0.8937\n",
      "279/279 [==============================] - 1s 3ms/step\n",
      "279/279 [==============================] - 1s 3ms/step - loss: 0.2608 - accuracy: 0.8905\n",
      "Accuracy: 0.8905\n",
      "Loss: 0.2608\n"
     ]
    },
    {
     "name": "stderr",
     "output_type": "stream",
     "text": [
      "C:\\Users\\Oscar\\anaconda3\\lib\\site-packages\\sklearn\\metrics\\_classification.py:1245: UndefinedMetricWarning: Precision and F-score are ill-defined and being set to 0.0 in labels with no predicted samples. Use `zero_division` parameter to control this behavior.\n",
      "  _warn_prf(average, modifier, msg_start, len(result))\n",
      "C:\\Users\\Oscar\\anaconda3\\lib\\site-packages\\sklearn\\metrics\\_classification.py:1245: UndefinedMetricWarning: Precision and F-score are ill-defined and being set to 0.0 in labels with no predicted samples. Use `zero_division` parameter to control this behavior.\n",
      "  _warn_prf(average, modifier, msg_start, len(result))\n",
      "C:\\Users\\Oscar\\anaconda3\\lib\\site-packages\\sklearn\\metrics\\_classification.py:1245: UndefinedMetricWarning: Precision and F-score are ill-defined and being set to 0.0 in labels with no predicted samples. Use `zero_division` parameter to control this behavior.\n",
      "  _warn_prf(average, modifier, msg_start, len(result))\n"
     ]
    }
   ],
   "source": [
    "#Train test val split\n",
    "X_sig_train, X_sig_test, y_sig_train, y_sig_test = train_test_split(augmented_data, augmented_labels, test_size=0.3, random_state=2)\n",
    "\n",
    "# Compile the model\n",
    "cancersigModel.compile(optimizer=Adam(learning_rate=0.001), loss='binary_crossentropy', metrics=['accuracy'])\n",
    "\n",
    "early_stopping = EarlyStopping(monitor='val_loss', patience=10)\n",
    "\n",
    "history = cancersigModel.fit(X_sig_train, y_sig_train,\n",
    "                        batch_size=32,\n",
    "                        epochs=50,\n",
    "                        validation_split=0.2,\n",
    "                        callbacks=[early_stopping])\n",
    "\n",
    "# Make predictions on the test set\n",
    "y_pred_sig = np.argmax(cancersigModel.predict(X_sig_test), axis=-1)\n",
    "\n",
    "# Calculate the accuracy, confusion matrix, and classification report\n",
    "test_loss, test_accuracy = cancersigModel.evaluate(X_sig_test, y_sig_test)\n",
    "print(f\"Accuracy: {test_accuracy:.4f}\")\n",
    "print(f\"Loss: {test_loss:.4f}\")"
   ]
  },
  {
   "cell_type": "markdown",
   "id": "61c17649",
   "metadata": {},
   "source": [
    "## Model 2: Random Forest"
   ]
  },
  {
   "cell_type": "markdown",
   "id": "b4ab4ef3",
   "metadata": {},
   "source": [
    "## HOG"
   ]
  },
  {
   "cell_type": "code",
   "execution_count": 9,
   "id": "8819c0cf",
   "metadata": {},
   "outputs": [],
   "source": [
    "#Train test val split\n",
    "X_rfc_train, X_rfc_test, y_rfc_train, y_rfc_test = train_test_split(augmented_data, augmented_labels, test_size=0.3, random_state=2)\n",
    "\n"
   ]
  },
  {
   "cell_type": "code",
   "execution_count": 10,
   "id": "7424ec73",
   "metadata": {},
   "outputs": [],
   "source": [
    "def extract_hog_features(images):\n",
    "    features = []\n",
    "    for img in images:\n",
    "        hog_feature, hog_image = hog(img, orientations=8, pixels_per_cell=(16, 16),\n",
    "                    cells_per_block=(1, 1), visualize=True)\n",
    "        features.append(hog_feature)\n",
    "    return np.array(features)\n",
    "\n",
    "X_train_hog = extract_hog_features(X_rfc_train)\n",
    "X_test_hog = extract_hog_features(X_rfc_test)"
   ]
  },
  {
   "cell_type": "markdown",
   "id": "c154081e",
   "metadata": {},
   "source": [
    "## Random Forest Classifier"
   ]
  },
  {
   "cell_type": "code",
   "execution_count": 11,
   "id": "ca8ecda1",
   "metadata": {},
   "outputs": [
    {
     "data": {
      "text/plain": [
       "RandomForestClassifier(random_state=42)"
      ]
     },
     "execution_count": 11,
     "metadata": {},
     "output_type": "execute_result"
    }
   ],
   "source": [
    "# rfc_classifier = RandomForestClassifier(n_estimators=100, random_state=42)\n",
    "# rfc_classifier.fit(X_train_hog, y_rfc_train)"
   ]
  },
  {
   "cell_type": "markdown",
   "id": "c2964b9a",
   "metadata": {},
   "source": [
    "## Determining the best hyperparameters"
   ]
  },
  {
   "cell_type": "code",
   "execution_count": 12,
   "id": "8bb8abd3",
   "metadata": {},
   "outputs": [
    {
     "name": "stdout",
     "output_type": "stream",
     "text": [
      "Hyperparameters: {'max_depth': 5, 'max_features': 'sqrt', 'n_estimators': 100}\n"
     ]
    }
   ],
   "source": [
    "# param_grid = {\n",
    "#     'n_estimators': [100, 200, 300],  \n",
    "#     'max_depth': [None, 5, 10],      \n",
    "#     'max_features': ['sqrt', 'log2'] \n",
    "# }\n",
    "\n",
    "# gridsearch = GridSearchCV(estimator=rfc_classifier, param_grid=param_grid, cv=5)\n",
    "# gridsearch.fit(X_train_hog, y_rfc_train)\n",
    "# params = gridsearch.best_params_\n",
    "# print(\"Hyperparameters:\", params)"
   ]
  },
  {
   "cell_type": "markdown",
   "id": "84c38de9",
   "metadata": {},
   "source": [
    "### Training Random Forest Classifier"
   ]
  },
  {
   "cell_type": "code",
   "execution_count": null,
   "id": "690f0215",
   "metadata": {},
   "outputs": [],
   "source": [
    "# # recreating model with new parameters\n",
    "# reparam_rfc_classifier = RandomForestClassifier(**params)\n",
    "# reparam_rfc_classifier.fit(X_train_hog, y_rfc_train)\n",
    "\n",
    "# # Make predictions on the test data\n",
    "# rfc_predictions = reparam_rfc_classifier.predict(X_test_hog)\n"
   ]
  },
  {
   "cell_type": "markdown",
   "id": "f7835322",
   "metadata": {},
   "source": [
    "### Evaluation"
   ]
  },
  {
   "cell_type": "code",
   "execution_count": 13,
   "id": "2ace6880",
   "metadata": {},
   "outputs": [
    {
     "name": "stdout",
     "output_type": "stream",
     "text": [
      "Accuracy: 0.5905467609745144\n",
      "\n",
      "Confusion Matrix:\n",
      " [[5260    0]\n",
      " [3647    0]]\n",
      "\n",
      "Classification Report:\n",
      "               precision    recall  f1-score   support\n",
      "\n",
      "           0       0.59      1.00      0.74      5260\n",
      "           1       0.00      0.00      0.00      3647\n",
      "\n",
      "    accuracy                           0.59      8907\n",
      "   macro avg       0.30      0.50      0.37      8907\n",
      "weighted avg       0.35      0.59      0.44      8907\n",
      "\n"
     ]
    },
    {
     "name": "stderr",
     "output_type": "stream",
     "text": [
      "C:\\Users\\Oscar\\anaconda3\\lib\\site-packages\\sklearn\\metrics\\_classification.py:1245: UndefinedMetricWarning: Precision and F-score are ill-defined and being set to 0.0 in labels with no predicted samples. Use `zero_division` parameter to control this behavior.\n",
      "  _warn_prf(average, modifier, msg_start, len(result))\n",
      "C:\\Users\\Oscar\\anaconda3\\lib\\site-packages\\sklearn\\metrics\\_classification.py:1245: UndefinedMetricWarning: Precision and F-score are ill-defined and being set to 0.0 in labels with no predicted samples. Use `zero_division` parameter to control this behavior.\n",
      "  _warn_prf(average, modifier, msg_start, len(result))\n",
      "C:\\Users\\Oscar\\anaconda3\\lib\\site-packages\\sklearn\\metrics\\_classification.py:1245: UndefinedMetricWarning: Precision and F-score are ill-defined and being set to 0.0 in labels with no predicted samples. Use `zero_division` parameter to control this behavior.\n",
      "  _warn_prf(average, modifier, msg_start, len(result))\n"
     ]
    }
   ],
   "source": [
    "\n",
    "# # Evaluate the accuracy of the model\n",
    "# rfc_accuracy = accuracy_score(y_rfc_test, rfc_predictions)\n",
    "# rfc_conf_mat = confusion_matrix(y_rfc_test, rfc_predictions)\n",
    "# rfc_class_report = classification_report(y_rfc_test, rfc_predictions)\n",
    "# print(\"Accuracy:\", rfc_accuracy)\n",
    "# print(\"\\nConfusion Matrix:\\n\", rfc_conf_mat)\n",
    "# print(\"\\nClassification Report:\\n\", rfc_class_report)"
   ]
  },
  {
   "cell_type": "markdown",
   "id": "3c1fe08e",
   "metadata": {},
   "source": [
    "## Model 3: CNN + Random Forest"
   ]
  },
  {
   "cell_type": "markdown",
   "id": "0fc27f34",
   "metadata": {},
   "source": [
    "### From CNN sig in Model 1.2\n",
    "\n",
    "**NOTE: Model 1.2 code MUST be run before using Model 3**"
   ]
  },
  {
   "cell_type": "code",
   "execution_count": 16,
   "id": "747f7d3c",
   "metadata": {},
   "outputs": [
    {
     "name": "stdout",
     "output_type": "stream",
     "text": [
      "650/650 [==============================] - 2s 2ms/step\n"
     ]
    }
   ],
   "source": [
    "target_layer = tf.keras.Model(inputs=cancersigModel.input, outputs=cancersigModel.layers[-2].output)\n",
    "\n",
    "def extract_sig_features(images):\n",
    "    features = target_layer.predict(images)\n",
    "    return features\n",
    "\n",
    "train_sig_features = extract_sig_features(X_sig_train)\n",
    "train_sig_features = train_sig_features.reshape(train_sig_features.shape[0], -1)\n"
   ]
  },
  {
   "cell_type": "markdown",
   "id": "d4e650cc",
   "metadata": {},
   "source": [
    "### Training Random Forest Classifier"
   ]
  },
  {
   "cell_type": "code",
   "execution_count": 19,
   "id": "ee8cbf1b",
   "metadata": {},
   "outputs": [
    {
     "data": {
      "text/plain": [
       "RandomForestClassifier()"
      ]
     },
     "execution_count": 19,
     "metadata": {},
     "output_type": "execute_result"
    }
   ],
   "source": [
    "rfc_classifier = RandomForestClassifier()\n",
    "\n",
    "rfc_classifier.fit(train_sig_features, y_sig_train)"
   ]
  },
  {
   "cell_type": "markdown",
   "id": "d308c632",
   "metadata": {},
   "source": [
    "### Evaluation"
   ]
  },
  {
   "cell_type": "code",
   "execution_count": 22,
   "id": "042faae4",
   "metadata": {},
   "outputs": [
    {
     "name": "stdout",
     "output_type": "stream",
     "text": [
      "279/279 [==============================] - 1s 2ms/step\n"
     ]
    }
   ],
   "source": [
    "test_sig_features = extract_sig_features(X_sig_test)\n",
    "test_sig_features = test_sig_features.reshape(test_sig_features.shape[0], -1)\n",
    "rfsig_predictions = rfc_classifier.predict(test_sig_features)"
   ]
  },
  {
   "cell_type": "code",
   "execution_count": 24,
   "id": "c6d7f90a",
   "metadata": {},
   "outputs": [
    {
     "name": "stdout",
     "output_type": "stream",
     "text": [
      "Accuracy: 0.8970472661951274\n",
      "\n",
      "Confusion Matrix:\n",
      " [[4815  445]\n",
      " [ 472 3175]]\n",
      "\n",
      "Classification Report:\n",
      "               precision    recall  f1-score   support\n",
      "\n",
      "           0       0.91      0.92      0.91      5260\n",
      "           1       0.88      0.87      0.87      3647\n",
      "\n",
      "    accuracy                           0.90      8907\n",
      "   macro avg       0.89      0.89      0.89      8907\n",
      "weighted avg       0.90      0.90      0.90      8907\n",
      "\n"
     ]
    }
   ],
   "source": [
    "rfsig_accuracy = accuracy_score(y_sig_test, rfsig_predictions)\n",
    "rfsig_conf_mat = confusion_matrix(y_sig_test, rfsig_predictions)\n",
    "rfsig_class_report = classification_report(y_sig_test, rfsig_predictions)\n",
    "\n",
    "print(\"Accuracy:\", rfsig_accuracy)\n",
    "print(\"\\nConfusion Matrix:\\n\", rfsig_conf_mat)\n",
    "print(\"\\nClassification Report:\\n\", rfsig_class_report)"
   ]
  }
 ],
 "metadata": {
  "kernelspec": {
   "display_name": "Python 3",
   "language": "python",
   "name": "python3"
  },
  "language_info": {
   "codemirror_mode": {
    "name": "ipython",
    "version": 3
   },
   "file_extension": ".py",
   "mimetype": "text/x-python",
   "name": "python",
   "nbconvert_exporter": "python",
   "pygments_lexer": "ipython3",
   "version": "3.8.8"
  }
 },
 "nbformat": 4,
 "nbformat_minor": 5
}
